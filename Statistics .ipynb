{
 "cells": [
  {
   "cell_type": "markdown",
   "id": "c14741ee-2cc2-4f0a-8e0b-914608960db6",
   "metadata": {},
   "source": [
    "Q.1= Generate a list of 100 integers containing values between 90 to 130 and store it in the variable `int_list`.\n",
    "After generating the list, find the following:\n",
    "\n",
    "  \n",
    "\n",
    "  (i) Write a Python function to calculate the mean of a given list of numbers.\n",
    "\n",
    "Create a function to find the median of a list of numbers"
   ]
  },
  {
   "cell_type": "markdown",
   "id": "99be042f-0f95-4410-bf90-5979a19eadaf",
   "metadata": {},
   "source": [
    "Let's break down the task into two main steps:\n",
    "\n",
    "Generate a list of 100 integers with values between 90 and 130.\n",
    "Write Python functions to calculate the mean and median of this list.\n",
    "Here is the complete solution:\n",
    "\n",
    "Step 1: Generate the List\n",
    "We will generate a list of 100 random integers between 90 and 130 using Python's random module.\n",
    "\n",
    "Step 2: Calculate the Mean and Median\n",
    "We will define functions to calculate the mean and median of the list."
   ]
  },
  {
   "cell_type": "code",
   "execution_count": 3,
   "id": "085af778-579d-4079-ae5a-c5a745c7eb57",
   "metadata": {},
   "outputs": [
    {
     "data": {
      "text/plain": [
       "(109.57, 110.0)"
      ]
     },
     "execution_count": 3,
     "metadata": {},
     "output_type": "execute_result"
    }
   ],
   "source": [
    "import random\n",
    "\n",
    "# Step 1: Generate a list of 100 integers containing values between 90 to 130\n",
    "int_list = [random.randint(90, 130) for _ in range(100)]\n",
    "\n",
    "# Step 2(i): Write a function to calculate the mean\n",
    "def calculate_mean(numbers):\n",
    "    return sum(numbers) / len(numbers)\n",
    "\n",
    "# Step 2(ii): Write a function to find the median\n",
    "def calculate_median(numbers):\n",
    "    sorted_numbers = sorted(numbers)\n",
    "    n = len(sorted_numbers)\n",
    "    mid = n // 2\n",
    "    \n",
    "    if n % 2 == 0:\n",
    "        median = (sorted_numbers[mid - 1] + sorted_numbers[mid]) / 2\n",
    "    else:\n",
    "        median = sorted_numbers[mid]\n",
    "    \n",
    "    return median\n",
    "\n",
    "# Calculate the mean and median of int_list\n",
    "mean = calculate_mean(int_list)\n",
    "median = calculate_median(int_list)\n",
    "\n",
    "# Output the results\n",
    "mean, median\n"
   ]
  },
  {
   "cell_type": "markdown",
   "id": "db5e3753-05ff-4c9f-b3f5-4a526be6357e",
   "metadata": {},
   "source": [
    "Explanation\n",
    "Generating the List:\n",
    "\n",
    "We use a list comprehension along with random.randint(90, 130) to generate 100 random integers between 90 and 130.\n",
    "The list is stored in the variable int_list.\n",
    "Calculating the Mean:\n",
    "\n",
    "The function calculate_mean takes a list of numbers as input.\n",
    "It calculates the mean by summing all the numbers in the list and dividing by the length of the list.\n",
    "Calculating the Median:\n",
    "\n",
    "The function calculate_median also takes a list of numbers as input.\n",
    "It first sorts the list.\n",
    "If the list length is even, it calculates the median as the average of the two middle elements.\n",
    "If the list length is odd, it returns the middle element directly.\n",
    "Running the Code\n",
    "When you run the provided code, it will generate a list of 100 integers between 90 and 130, then compute and output the mean and median of this list. The mean and median variables will contain the computed mean and median values, respectively.\n",
    "\n",
    "\n",
    "\n",
    "\n",
    "\n",
    "\n"
   ]
  },
  {
   "cell_type": "markdown",
   "id": "38177700-ee72-499a-8940-87f2ce93657b",
   "metadata": {},
   "source": [
    "  (ii) Develop a program to compute the mode of a list of integers."
   ]
  },
  {
   "cell_type": "markdown",
   "id": "aa03d25e-1871-4019-952b-30df7aea2fbe",
   "metadata": {},
   "source": [
    "To complete the task, we will follow these steps:\n",
    "\n",
    "Generate a list of 100 integers with values between 90 and 130.\n",
    "Write Python functions to calculate the mean, median, and mode of this list.\n",
    "Here is the complete solution including the generation of the list and the required functions:\n",
    "\n",
    "Step 1: Generate the List\n",
    "We will generate a list of 100 random integers between 90 and 130 using Python's random module.\n",
    "\n",
    "Step 2: Calculate the Mean, Median, and Mode\n",
    "We will define functions to calculate the mean, median, and mode of the list."
   ]
  },
  {
   "cell_type": "code",
   "execution_count": 4,
   "id": "0e1d924f-541b-419e-ba3e-7bdd61c794e2",
   "metadata": {},
   "outputs": [
    {
     "data": {
      "text/plain": [
       "(110.82, 111.0, [118])"
      ]
     },
     "execution_count": 4,
     "metadata": {},
     "output_type": "execute_result"
    }
   ],
   "source": [
    "import random\n",
    "from collections import Counter\n",
    "\n",
    "# Step 1: Generate a list of 100 integers containing values between 90 to 130\n",
    "int_list = [random.randint(90, 130) for _ in range(100)]\n",
    "\n",
    "# Step 2(i): Write a function to calculate the mean\n",
    "def calculate_mean(numbers):\n",
    "    return sum(numbers) / len(numbers)\n",
    "\n",
    "# Step 2(ii): Write a function to find the median\n",
    "def calculate_median(numbers):\n",
    "    sorted_numbers = sorted(numbers)\n",
    "    n = len(sorted_numbers)\n",
    "    mid = n // 2\n",
    "    \n",
    "    if n % 2 == 0:\n",
    "        median = (sorted_numbers[mid - 1] + sorted_numbers[mid]) / 2\n",
    "    else:\n",
    "        median = sorted_numbers[mid]\n",
    "    \n",
    "    return median\n",
    "\n",
    "# Step 2(iii): Write a function to compute the mode\n",
    "def calculate_mode(numbers):\n",
    "    frequency = Counter(numbers)\n",
    "    max_count = max(frequency.values())\n",
    "    mode = [num for num, count in frequency.items() if count == max_count]\n",
    "    \n",
    "    return mode\n",
    "\n",
    "# Calculate the mean, median, and mode of int_list\n",
    "mean = calculate_mean(int_list)\n",
    "median = calculate_median(int_list)\n",
    "mode = calculate_mode(int_list)\n",
    "\n",
    "# Output the results\n",
    "mean, median, mode\n"
   ]
  },
  {
   "cell_type": "markdown",
   "id": "f233f4de-91dc-4aae-b492-3916faffb175",
   "metadata": {},
   "source": [
    "Explanation\n",
    "Generating the List:\n",
    "\n",
    "We use a list comprehension along with random.randint(90, 130) to generate 100 random integers between 90 and 130.\n",
    "The list is stored in the variable int_list.\n",
    "Calculating the Mean:\n",
    "\n",
    "The function calculate_mean takes a list of numbers as input.\n",
    "It calculates the mean by summing all the numbers in the list and dividing by the length of the list.\n",
    "Calculating the Median:\n",
    "\n",
    "The function calculate_median takes a list of numbers as input.\n",
    "It first sorts the list.\n",
    "If the list length is even, it calculates the median as the average of the two middle elements.\n",
    "If the list length is odd, it returns the middle element directly.\n",
    "Calculating the Mode:\n",
    "\n",
    "We use the Counter class from the collections module to count the frequency of each number in the list.\n",
    "We find the maximum count (i.e., the highest frequency).\n",
    "We return a list of numbers that have this maximum count.\n",
    "Running the Code\n",
    "When you run the provided code, it will generate a list of 100 integers between 90 and 130, then compute and output the mean, median, and mode of this list. The mean, median, and mode variables will contain the computed values, respectively.\n",
    "\n",
    "\n",
    "\n",
    "\n",
    "\n",
    "\n"
   ]
  },
  {
   "cell_type": "markdown",
   "id": "e810909e-e48a-435c-a9b9-7ff19e33b5b5",
   "metadata": {},
   "source": [
    " (iii) Implement a function to calculate the weighted mean of a list of values and their corresponding weights."
   ]
  },
  {
   "cell_type": "markdown",
   "id": "000cc0a3-6e2f-44af-b7e2-372ac38cf6d5",
   "metadata": {},
   "source": [
    "To complete the task, we'll follow these steps:\n",
    "\n",
    "Generate a list of 100 integers with values between 90 and 130.\n",
    "Write a Python function to calculate the weighted mean of a list of values and their corresponding weights.\n",
    "Here is the complete solution, including the generation of the list and the required function:\n",
    "\n",
    "Step 1: Generate the List\n",
    "We will generate a list of 100 random integers between 90 and 130 using Python's random module.\n",
    "\n",
    "Step 2: Calculate the Weighted Mean\n",
    "We will define a function to calculate the weighted mean given a list of values and their corresponding weights."
   ]
  },
  {
   "cell_type": "code",
   "execution_count": 5,
   "id": "da2b00db-662b-4123-95b7-6e42279ce61b",
   "metadata": {},
   "outputs": [
    {
     "data": {
      "text/plain": [
       "108.08930876905995"
      ]
     },
     "execution_count": 5,
     "metadata": {},
     "output_type": "execute_result"
    }
   ],
   "source": [
    "import random\n",
    "\n",
    "# Step 1: Generate a list of 100 integers containing values between 90 to 130\n",
    "int_list = [random.randint(90, 130) for _ in range(100)]\n",
    "\n",
    "# Step 2(iii): Implement a function to calculate the weighted mean\n",
    "def calculate_weighted_mean(values, weights):\n",
    "    if len(values) != len(weights):\n",
    "        raise ValueError(\"The length of values and weights must be the same\")\n",
    "    \n",
    "    weighted_sum = sum(value * weight for value, weight in zip(values, weights))\n",
    "    total_weight = sum(weights)\n",
    "    \n",
    "    return weighted_sum / total_weight\n",
    "\n",
    "# Example usage with random weights\n",
    "weights = [random.uniform(0.5, 1.5) for _ in range(100)]\n",
    "\n",
    "# Calculate the weighted mean of int_list with the generated weights\n",
    "weighted_mean = calculate_weighted_mean(int_list, weights)\n",
    "\n",
    "# Output the result\n",
    "weighted_mean\n"
   ]
  },
  {
   "cell_type": "markdown",
   "id": "752e57d8-e94d-4884-a7a4-424d940195a2",
   "metadata": {},
   "source": [
    "Explanation\n",
    "Generating the List:\n",
    "\n",
    "We use a list comprehension along with random.randint(90, 130) to generate 100 random integers between 90 and 130.\n",
    "The list is stored in the variable int_list.\n",
    "Calculating the Weighted Mean:\n",
    "\n",
    "The function calculate_weighted_mean takes two lists as input: values and weights.\n",
    "It first checks if the lengths of the values and weights lists are the same, raising a ValueError if they are not.\n",
    "It calculates the weighted sum by multiplying each value by its corresponding weight and summing the results.\n",
    "It calculates the total weight by summing all the weights.\n",
    "It returns the weighted mean by dividing the weighted sum by the total weight.\n",
    "Example Usage:\n",
    "\n",
    "We generate a list of 100 random weights between 0.5 and 1.5 using random.uniform(0.5, 1.5).\n",
    "We calculate the weighted mean of int_list using these random weights.\n",
    "The result is stored in the variable weighted_mean.\n",
    "Running the Code\n",
    "When you run the provided code, it will generate a list of 100 integers between 90 and 130, generate a list of 100 random weights, and then compute and output the weighted mean of the list using these weights. The weighted_mean variable will contain the computed weighted mean value."
   ]
  },
  {
   "cell_type": "markdown",
   "id": "73d206f4-a183-4fb4-8746-2947c56494a3",
   "metadata": {},
   "source": [
    "  (iv) Write a Python function to find the geometric mean of a list of positive numbers."
   ]
  },
  {
   "cell_type": "markdown",
   "id": "6259e6f1-d0a4-4905-b051-c58f147571d0",
   "metadata": {},
   "source": [
    "To complete the task, we'll follow these steps:\n",
    "\n",
    "Generate a list of 100 integers with values between 90 and 130.\n",
    "Write a Python function to calculate the geometric mean of a list of positive numbers.\n",
    "Here is the complete solution including the generation of the list and the required function:\n",
    "\n",
    "Step 1: Generate the List\n",
    "We will generate a list of 100 random integers between 90 and 130 using Python's random module.\n",
    "\n",
    "Step 2: Calculate the Geometric Mean\n",
    "We will define a function to calculate the geometric mean given a list of positive numbers."
   ]
  },
  {
   "cell_type": "code",
   "execution_count": 6,
   "id": "1c6d54db-4978-40c2-9bce-8a99e5fe8827",
   "metadata": {},
   "outputs": [
    {
     "data": {
      "text/plain": [
       "109.94847564089171"
      ]
     },
     "execution_count": 6,
     "metadata": {},
     "output_type": "execute_result"
    }
   ],
   "source": [
    "import random\n",
    "import math\n",
    "\n",
    "# Step 1: Generate a list of 100 integers containing values between 90 to 130\n",
    "int_list = [random.randint(90, 130) for _ in range(100)]\n",
    "\n",
    "# Step 2(iv): Implement a function to calculate the geometric mean\n",
    "def calculate_geometric_mean(numbers):\n",
    "    if any(n <= 0 for n in numbers):\n",
    "        raise ValueError(\"All numbers must be positive to calculate the geometric mean\")\n",
    "    \n",
    "    product = math.prod(numbers)\n",
    "    n = len(numbers)\n",
    "    \n",
    "    geometric_mean = product**(1/n)\n",
    "    \n",
    "    return geometric_mean\n",
    "\n",
    "# Calculate the geometric mean of int_list\n",
    "geometric_mean = calculate_geometric_mean(int_list)\n",
    "\n",
    "# Output the result\n",
    "geometric_mean\n"
   ]
  },
  {
   "cell_type": "markdown",
   "id": "884995aa-f4de-4a60-b4a9-ee29eeacbe7f",
   "metadata": {},
   "source": [
    "Explanation\n",
    "Generating the List:\n",
    "\n",
    "We use a list comprehension along with random.randint(90, 130) to generate 100 random integers between 90 and 130.\n",
    "The list is stored in the variable int_list.\n",
    "Calculating the Geometric Mean:\n",
    "\n",
    "The function calculate_geometric_mean takes a list of positive numbers as input.\n",
    "It checks if all numbers in the list are positive. If any number is non-positive, it raises a ValueError.\n",
    "It calculates the product of all the numbers in the list using math.prod.\n",
    "It calculates the geometric mean by taking the n-th root of the product, where n is the length of the list. This is done using product**(1/n).\n",
    "It returns the calculated geometric mean.\n",
    "Running the Code\n",
    "When you run the provided code, it will generate a list of 100 integers between 90 and 130, and then compute and output the geometric mean of this list. The geometric_mean variable will contain the computed geometric mean value."
   ]
  },
  {
   "cell_type": "markdown",
   "id": "23fa9ea7-cd35-4488-8c59-ada57acd29b0",
   "metadata": {},
   "source": [
    "  (v) Create a program to calculate the harmonic mean of a list of values."
   ]
  },
  {
   "cell_type": "markdown",
   "id": "8595a558-deca-4730-aef9-0780987814f5",
   "metadata": {},
   "source": [
    "To complete the task, we'll follow these steps:\n",
    "\n",
    "Generate a list of 100 integers with values between 90 and 130.\n",
    "Write a Python function to calculate the harmonic mean of a list of values.\n",
    "Here is the complete solution including the generation of the list and the required function:\n",
    "\n",
    "Step 1: Generate the List\n",
    "We will generate a list of 100 random integers between 90 and 130 using Python's random module.\n",
    "\n",
    "Step 2: Calculate the Harmonic Mean\n",
    "We will define a function to calculate the harmonic mean given a list of numbers."
   ]
  },
  {
   "cell_type": "code",
   "execution_count": 7,
   "id": "6e33ff9e-8146-46a8-9391-200f7b0a5f02",
   "metadata": {},
   "outputs": [
    {
     "data": {
      "text/plain": [
       "109.82005754246896"
      ]
     },
     "execution_count": 7,
     "metadata": {},
     "output_type": "execute_result"
    }
   ],
   "source": [
    "import random\n",
    "\n",
    "# Step 1: Generate a list of 100 integers containing values between 90 to 130\n",
    "int_list = [random.randint(90, 130) for _ in range(100)]\n",
    "\n",
    "# Step 2(v): Implement a function to calculate the harmonic mean\n",
    "def calculate_harmonic_mean(numbers):\n",
    "    if any(n == 0 for n in numbers):\n",
    "        raise ValueError(\"All numbers must be non-zero to calculate the harmonic mean\")\n",
    "    \n",
    "    n = len(numbers)\n",
    "    reciprocal_sum = sum(1 / n for n in numbers)\n",
    "    \n",
    "    harmonic_mean = n / reciprocal_sum\n",
    "    \n",
    "    return harmonic_mean\n",
    "\n",
    "# Calculate the harmonic mean of int_list\n",
    "harmonic_mean = calculate_harmonic_mean(int_list)\n",
    "\n",
    "# Output the result\n",
    "harmonic_mean\n"
   ]
  },
  {
   "cell_type": "markdown",
   "id": "8d926eb1-ba35-4a16-9d43-683e48aac34d",
   "metadata": {},
   "source": [
    "Explanation\n",
    "Generating the List:\n",
    "\n",
    "We use a list comprehension along with random.randint(90, 130) to generate 100 random integers between 90 and 130.\n",
    "The list is stored in the variable int_list.\n",
    "Calculating the Harmonic Mean:\n",
    "\n",
    "The function calculate_harmonic_mean takes a list of numbers as input.\n",
    "It checks if all numbers in the list are non-zero. If any number is zero, it raises a ValueError.\n",
    "It calculates the sum of the reciprocals of all numbers in the list.\n",
    "It calculates the harmonic mean by dividing the number of elements in the list by the sum of the reciprocals.\n",
    "It returns the calculated harmonic mean.\n",
    "Running the Code\n",
    "When you run the provided code, it will generate a list of 100 integers between 90 and 130, and then compute and output the harmonic mean of this list. The harmonic_mean variable will contain the computed harmonic mean value.\n",
    "\n",
    "\n",
    "\n",
    "\n",
    "\n",
    "\n"
   ]
  },
  {
   "cell_type": "markdown",
   "id": "d424e104-47c2-4014-b3af-f03c250a4c1b",
   "metadata": {},
   "source": [
    " (vi) Build a function to determine the midrange of a list of numbers (average of the minimum and maximum)."
   ]
  },
  {
   "cell_type": "markdown",
   "id": "1d37e9fc-2157-4c54-95e1-586474d124f0",
   "metadata": {},
   "source": [
    "To complete the task, we'll follow these steps:\n",
    "\n",
    "Generate a list of 100 integers with values between 90 and 130.\n",
    "Write a Python function to calculate the midrange of a list of numbers.\n",
    "Here is the complete solution including the generation of the list and the required function:\n",
    "\n",
    "Step 1: Generate the List\n",
    "We will generate a list of 100 random integers between 90 and 130 using Python's random module.\n",
    "\n",
    "Step 2: Calculate the Midrange\n",
    "We will define a function to calculate the midrange given a list of numbers."
   ]
  },
  {
   "cell_type": "code",
   "execution_count": 8,
   "id": "8e6d5791-7611-42b8-99e8-f9b26ab9dcd9",
   "metadata": {},
   "outputs": [
    {
     "data": {
      "text/plain": [
       "109.5"
      ]
     },
     "execution_count": 8,
     "metadata": {},
     "output_type": "execute_result"
    }
   ],
   "source": [
    "import random\n",
    "\n",
    "# Step 1: Generate a list of 100 integers containing values between 90 to 130\n",
    "int_list = [random.randint(90, 130) for _ in range(100)]\n",
    "\n",
    "# Step 2(vi): Implement a function to calculate the midrange\n",
    "def calculate_midrange(numbers):\n",
    "    minimum = min(numbers)\n",
    "    maximum = max(numbers)\n",
    "    midrange = (minimum + maximum) / 2\n",
    "    \n",
    "    return midrange\n",
    "\n",
    "# Calculate the midrange of int_list\n",
    "midrange = calculate_midrange(int_list)\n",
    "\n",
    "# Output the result\n",
    "midrange\n"
   ]
  },
  {
   "cell_type": "markdown",
   "id": "f41f21ff-2a3b-4926-a02c-b2fec97a663e",
   "metadata": {},
   "source": [
    "Explanation\n",
    "Generating the List:\n",
    "\n",
    "We use a list comprehension along with random.randint(90, 130) to generate 100 random integers between 90 and 130.\n",
    "The list is stored in the variable int_list.\n",
    "Calculating the Midrange:\n",
    "\n",
    "The function calculate_midrange takes a list of numbers as input.\n",
    "It finds the minimum and maximum values in the list using the min and max functions.\n",
    "It calculates the midrange by averaging the minimum and maximum values: (minimum + maximum) / 2.\n",
    "It returns the calculated midrange.\n",
    "Running the Code\n",
    "When you run the provided code, it will generate a list of 100 integers between 90 and 130, and then compute and output the midrange of this list. The midrange variable will contain the computed midrange value.\n",
    "\n",
    "\n",
    "\n",
    "\n",
    "\n",
    "\n"
   ]
  },
  {
   "cell_type": "markdown",
   "id": "c8cab98d-7772-4dbd-805d-4c19af53c032",
   "metadata": {},
   "source": [
    "vii) Implement a Python program to find the trimmed mean of a list, excluding a certain percentage of\n",
    "outliers."
   ]
  },
  {
   "cell_type": "markdown",
   "id": "1da7c91d-1ed5-4b0e-a32f-f444c941c9be",
   "metadata": {},
   "source": [
    "To complete the task, we'll follow these steps:\n",
    "\n",
    "Generate a list of 100 integers with values between 90 and 130.\n",
    "Write a Python function to calculate the trimmed mean of a list, excluding a certain percentage of outliers.\n",
    "Step 1: Generate the List\n",
    "We will generate a list of 100 random integers between 90 and 130 using Python's random module.\n",
    "\n",
    "Step 2: Calculate the Trimmed Mean\n",
    "We will define a function to calculate the trimmed mean given a list of numbers and a percentage of outliers to exclude from both ends of the list."
   ]
  },
  {
   "cell_type": "code",
   "execution_count": 9,
   "id": "34e954e2-4efe-4b95-bec8-3f23999bb288",
   "metadata": {},
   "outputs": [
    {
     "data": {
      "text/plain": [
       "110.75"
      ]
     },
     "execution_count": 9,
     "metadata": {},
     "output_type": "execute_result"
    }
   ],
   "source": [
    "import random\n",
    "\n",
    "# Step 1: Generate a list of 100 integers containing values between 90 to 130\n",
    "int_list = [random.randint(90, 130) for _ in range(100)]\n",
    "\n",
    "# Step 2(vii): Implement a function to calculate the trimmed mean\n",
    "def calculate_trimmed_mean(numbers, trim_percentage):\n",
    "    if not 0 <= trim_percentage < 50:\n",
    "        raise ValueError(\"Trim percentage must be between 0 and 50\")\n",
    "    \n",
    "    n = len(numbers)\n",
    "    trim_count = int(n * trim_percentage / 100)\n",
    "    \n",
    "    sorted_numbers = sorted(numbers)\n",
    "    trimmed_numbers = sorted_numbers[trim_count:n - trim_count]\n",
    "    \n",
    "    trimmed_mean = sum(trimmed_numbers) / len(trimmed_numbers)\n",
    "    \n",
    "    return trimmed_mean\n",
    "\n",
    "# Example usage with a 10% trim percentage\n",
    "trim_percentage = 10\n",
    "\n",
    "# Calculate the trimmed mean of int_list\n",
    "trimmed_mean = calculate_trimmed_mean(int_list, trim_percentage)\n",
    "\n",
    "# Output the result\n",
    "trimmed_mean\n"
   ]
  },
  {
   "cell_type": "markdown",
   "id": "f82f4aa3-df73-4de6-94e7-aecf2b668fb6",
   "metadata": {},
   "source": [
    "Explanation\n",
    "Generating the List:\n",
    "\n",
    "We use a list comprehension along with random.randint(90, 130) to generate 100 random integers between 90 and 130.\n",
    "The list is stored in the variable int_list.\n",
    "Calculating the Trimmed Mean:\n",
    "\n",
    "The function calculate_trimmed_mean takes a list of numbers and a trim_percentage as input.\n",
    "It checks if the trim_percentage is between 0 and 50 (exclusive). If not, it raises a ValueError.\n",
    "It calculates the number of elements to trim from each end of the sorted list as trim_count = int(n * trim_percentage / 100).\n",
    "It sorts the list and removes the smallest and largest trim_count elements.\n",
    "It calculates the mean of the remaining elements and returns this value as the trimmed mean.\n",
    "Example Usage:\n",
    "\n",
    "We use a trim_percentage of 10%.\n",
    "We calculate the trimmed mean of int_list using this trim percentage.\n",
    "The result is stored in the variable trimmed_mean.\n",
    "Running the Code\n",
    "When you run the provided code, it will generate a list of 100 integers between 90 and 130, and then compute and output the trimmed mean of this list, excluding the specified percentage of outliers from both ends. The trimmed_mean variable will contain the computed trimmed mean value."
   ]
  },
  {
   "cell_type": "markdown",
   "id": "553ec554-1c65-4209-b221-e86c06eed5fc",
   "metadata": {},
   "source": [
    "2. Generate a list of 500 integers containing values between 200 to 300 and store it in the variable `int_list2`.\n",
    " after generating the list, find the following:"
   ]
  },
  {
   "cell_type": "markdown",
   "id": "e3306e3b-5ed0-4c30-a964-e2138eaaa605",
   "metadata": {},
   "source": [
    "  (i) Compare the given list of visualization for the given data:\n",
    "\n",
    "    \n",
    "\n",
    "    1. Frequency & Gaussian distribution\n",
    "\n",
    "    2. Frequency smoothened KDE plot\n",
    "\n",
    "    3. Gaussian distribution & smoothened KDE plot"
   ]
  },
  {
   "cell_type": "markdown",
   "id": "cd6f7867-cb07-47b7-8f06-4a56f84fac92",
   "metadata": {},
   "source": [
    "To generate a list of 500 integers containing values between 200 and 300, and then create the required visualizations, we will use Python libraries such as random, matplotlib, and seaborn. Here is a complete solution:\n",
    "\n",
    "Step 1: Generate the List\n",
    "We will generate a list of 500 random integers between 200 and 300 using Python's random module.\n",
    "\n",
    "Step 2: Visualize the Data\n",
    "We will create the following visualizations:\n",
    "\n",
    "Frequency histogram and Gaussian distribution\n",
    "Frequency smoothed KDE plot\n",
    "Gaussian distribution and smoothed KDE plot\n",
    "Here's the complete code:"
   ]
  },
  {
   "cell_type": "code",
   "execution_count": 10,
   "id": "36c3e404-f199-434e-8a21-e998b776c6ea",
   "metadata": {},
   "outputs": [
    {
     "data": {
      "image/png": "[encoded data removed]",
      "text/plain": [
       "<Figure size 1000x600 with 1 Axes>"
      ]
     },
     "metadata": {},
     "output_type": "display_data"
    },
    {
     "data": {
      "image/png": "[encoded data removed]",
      "text/plain": [
       "<Figure size 1000x600 with 1 Axes>"
      ]
     },
     "metadata": {},
     "output_type": "display_data"
    },
    {
     "data": {
      "image/png": "[encoded data removed]",
      "text/plain": [
       "<Figure size 1000x600 with 1 Axes>"
      ]
     },
     "metadata": {},
     "output_type": "display_data"
    }
   ],
   "source": [
    "import random\n",
    "import matplotlib.pyplot as plt\n",
    "import seaborn as sns\n",
    "import numpy as np\n",
    "from scipy.stats import norm\n",
    "\n",
    "# Step 1: Generate a list of 500 integers containing values between 200 to 300\n",
    "int_list2 = [random.randint(200, 300) for _ in range(500)]\n",
    "\n",
    "# Convert the list to a NumPy array for easier manipulation\n",
    "data = np.array(int_list2)\n",
    "\n",
    "# Step 2: Visualize the data\n",
    "\n",
    "# 1. Frequency histogram and Gaussian distribution\n",
    "plt.figure(figsize=(10, 6))\n",
    "sns.histplot(data, bins=20, kde=False, color='skyblue', stat='density', label='Frequency Histogram')\n",
    "mean, std = norm.fit(data)\n",
    "xmin, xmax = plt.xlim()\n",
    "x = np.linspace(xmin, xmax, 100)\n",
    "p = norm.pdf(x, mean, std)\n",
    "plt.plot(x, p, 'k', linewidth=2, label='Gaussian Distribution')\n",
    "plt.title('Frequency Histogram and Gaussian Distribution')\n",
    "plt.legend()\n",
    "plt.show()\n",
    "\n",
    "# 2. Frequency smoothed KDE plot\n",
    "plt.figure(figsize=(10, 6))\n",
    "sns.histplot(data, bins=20, kde=True, color='skyblue', stat='density', label='Frequency Histogram')\n",
    "plt.title('Frequency Smoothed KDE Plot')\n",
    "plt.legend()\n",
    "plt.show()\n",
    "\n",
    "# 3. Gaussian distribution and smoothed KDE plot\n",
    "plt.figure(figsize=(10, 6))\n",
    "sns.kdeplot(data, color='blue', label='KDE')\n",
    "plt.plot(x, p, 'k', linewidth=2, label='Gaussian Distribution')\n",
    "plt.title('Gaussian Distribution and Smoothed KDE Plot')\n",
    "plt.legend()\n",
    "plt.show()\n"
   ]
  },
  {
   "cell_type": "markdown",
   "id": "ef0c4b79-8b77-4d95-ae52-f91b85147f13",
   "metadata": {},
   "source": [
    "Explanation\n",
    "Generating the List:\n",
    "\n",
    "We use a list comprehension along with random.randint(200, 300) to generate 500 random integers between 200 and 300.\n",
    "The list is stored in the variable int_list2.\n",
    "Visualizations:\n",
    "\n",
    "Frequency Histogram and Gaussian Distribution:\n",
    "We use sns.histplot to create a histogram of the data with density normalization.\n",
    "We fit a Gaussian distribution to the data using norm.fit to get the mean and standard deviation.\n",
    "We plot the Gaussian distribution on the same plot.\n",
    "Frequency Smoothed KDE Plot:\n",
    "We use sns.histplot with the kde=True parameter to add a Kernel Density Estimate (KDE) plot on top of the histogram.\n",
    "Gaussian Distribution and Smoothed KDE Plot:\n",
    "We use sns.kdeplot to plot the KDE of the data.\n",
    "We plot the Gaussian distribution on the same plot for comparison.\n",
    "Running the Code\n",
    "When you run the provided code, it will generate a list of 500 integers between 200 and 300, and then create the three visualizations described. Each plot will be displayed separately, allowing for visual comparison of the data's frequency histogram, Gaussian distribution, and smoothed KDE plot."
   ]
  },
  {
   "cell_type": "markdown",
   "id": "02ab7ccb-8f8d-49e7-9caf-1a5ac9703ab5",
   "metadata": {},
   "source": [
    "  (ii) Write a Python function to calculate the range of a given list of numbers."
   ]
  },
  {
   "cell_type": "markdown",
   "id": "24c61e35-785c-4838-9d4e-143ea0d7414c",
   "metadata": {},
   "source": [
    "To calculate the range of a given list of numbers, we'll define a Python function that takes the list as input and returns the difference between the maximum and minimum values in the list. Here's how you can do it:"
   ]
  },
  {
   "cell_type": "code",
   "execution_count": 11,
   "id": "d4e8305a-5a4c-4917-b79b-62eeecf8f959",
   "metadata": {},
   "outputs": [
    {
     "data": {
      "text/plain": [
       "100"
      ]
     },
     "execution_count": 11,
     "metadata": {},
     "output_type": "execute_result"
    }
   ],
   "source": [
    "import random\n",
    "\n",
    "# Step 1: Generate a list of 500 integers containing values between 200 to 300\n",
    "int_list2 = [random.randint(200, 300) for _ in range(500)]\n",
    "\n",
    "# Step 2: Write a function to calculate the range of a given list of numbers\n",
    "def calculate_range(numbers):\n",
    "    return max(numbers) - min(numbers)\n",
    "\n",
    "# Calculate the range of int_list2\n",
    "range_of_int_list2 = calculate_range(int_list2)\n",
    "\n",
    "# Output the result\n",
    "range_of_int_list2\n"
   ]
  },
  {
   "cell_type": "markdown",
   "id": "ce6fa00d-703e-49a6-aada-a07a0b312c37",
   "metadata": {},
   "source": [
    "Explanation\n",
    "Generating the List:\n",
    "\n",
    "We use a list comprehension along with random.randint(200, 300) to generate 500 random integers between 200 and 300.\n",
    "The list is stored in the variable int_list2.\n",
    "Calculating the Range:\n",
    "\n",
    "The function calculate_range takes a list of numbers as input.\n",
    "It uses the max and min functions to find the maximum and minimum values in the list.\n",
    "It calculates the range by subtracting the minimum value from the maximum value.\n",
    "It returns the calculated range.\n",
    "Running the Code\n",
    "When you run the provided code, it will generate a list of 500 integers between 200 and 300, and then calculate and output the range of this list. The range_of_int_list2 variable will contain the computed range value."
   ]
  },
  {
   "cell_type": "markdown",
   "id": "df37b4fb-0307-4d07-a020-3018bf6f2bcc",
   "metadata": {},
   "source": [
    "  (iii) Create a program to find the variance and standard deviation of a list of numbers."
   ]
  },
  {
   "cell_type": "markdown",
   "id": "9fc8cee8-901f-4b07-858c-ab2354a657fc",
   "metadata": {},
   "source": [
    "To find the variance and standard deviation of a list of numbers, we'll define a Python function that takes the list as input and computes these statistical measures. Here's how you can do it:"
   ]
  },
  {
   "cell_type": "code",
   "execution_count": 12,
   "id": "7256e9d9-600c-4da5-8130-89b9fcf053f8",
   "metadata": {},
   "outputs": [
    {
     "data": {
      "text/plain": [
       "(851.4296, 29.179266611757054)"
      ]
     },
     "execution_count": 12,
     "metadata": {},
     "output_type": "execute_result"
    }
   ],
   "source": [
    "import random\n",
    "import numpy as np\n",
    "\n",
    "# Step 1: Generate a list of 500 integers containing values between 200 to 300\n",
    "int_list2 = [random.randint(200, 300) for _ in range(500)]\n",
    "\n",
    "# Step 2: Write a function to find the variance and standard deviation\n",
    "def calculate_variance_and_stddev(numbers):\n",
    "    # Calculate the variance using numpy's var function\n",
    "    variance = np.var(numbers)\n",
    "    # Calculate the standard deviation using numpy's std function\n",
    "    stddev = np.std(numbers)\n",
    "    \n",
    "    return variance, stddev\n",
    "\n",
    "# Calculate the variance and standard deviation of int_list2\n",
    "variance, stddev = calculate_variance_and_stddev(int_list2)\n",
    "\n",
    "# Output the results\n",
    "variance, stddev\n"
   ]
  },
  {
   "cell_type": "markdown",
   "id": "0dd4ab1e-5ee0-4d8e-8f76-fbecca7b058e",
   "metadata": {},
   "source": [
    "Explanation\n",
    "Generating the List:\n",
    "\n",
    "We use a list comprehension along with random.randint(200, 300) to generate 500 random integers between 200 and 300.\n",
    "The list is stored in the variable int_list2.\n",
    "Calculating the Variance and Standard Deviation:\n",
    "\n",
    "The function calculate_variance_and_stddev takes a list of numbers as input.\n",
    "It uses NumPy's np.var function to calculate the variance of the list.\n",
    "It uses NumPy's np.std function to calculate the standard deviation of the list.\n",
    "It returns both the variance and standard deviation.\n",
    "Running the Code\n",
    "When you run the provided code, it will generate a list of 500 integers between 200 and 300, and then calculate and output the variance and standard deviation of this list. The variance and stddev variables will contain the computed values, respectively."
   ]
  },
  {
   "cell_type": "markdown",
   "id": "99f1a31c-a6c3-456b-8bb1-782dfca3e1f1",
   "metadata": {},
   "source": [
    "(iv) Implement a function to compute the interquartile range (IQR) of a list of values."
   ]
  },
  {
   "cell_type": "markdown",
   "id": "37cce222-6b33-4b35-934c-8389b6d82475",
   "metadata": {},
   "source": [
    "To compute the interquartile range (IQR) of a list of values, we need to first sort the list and then calculate the difference between the 75th percentile (third quartile) and the 25th percentile (first quartile). Here's how you can implement this function:"
   ]
  },
  {
   "cell_type": "code",
   "execution_count": 13,
   "id": "7f0249a9-ef44-47ff-ae8b-1a08c93645ea",
   "metadata": {},
   "outputs": [
    {
     "data": {
      "text/plain": [
       "48.5"
      ]
     },
     "execution_count": 13,
     "metadata": {},
     "output_type": "execute_result"
    }
   ],
   "source": [
    "import random\n",
    "import numpy as np\n",
    "\n",
    "# Step 1: Generate a list of 500 integers containing values between 200 to 300\n",
    "int_list2 = [random.randint(200, 300) for _ in range(500)]\n",
    "\n",
    "# Step 2: Implement a function to compute the interquartile range (IQR)\n",
    "def calculate_iqr(numbers):\n",
    "    # Calculate the first quartile (Q1)\n",
    "    q1 = np.percentile(numbers, 25)\n",
    "    # Calculate the third quartile (Q3)\n",
    "    q3 = np.percentile(numbers, 75)\n",
    "    # Calculate the interquartile range (IQR)\n",
    "    iqr = q3 - q1\n",
    "    \n",
    "    return iqr\n",
    "\n",
    "# Calculate the interquartile range of int_list2\n",
    "iqr = calculate_iqr(int_list2)\n",
    "\n",
    "# Output the result\n",
    "iqr\n"
   ]
  },
  {
   "cell_type": "markdown",
   "id": "53848253-51b8-45e6-8b69-bf253b56af16",
   "metadata": {},
   "source": [
    "Explanation\n",
    "Generating the List:\n",
    "\n",
    "We use a list comprehension along with random.randint(200, 300) to generate 500 random integers between 200 and 300.\n",
    "The list is stored in the variable int_list2.\n",
    "Calculating the Interquartile Range (IQR):\n",
    "\n",
    "The function calculate_iqr takes a list of numbers as input.\n",
    "It uses NumPy's np.percentile function to calculate the 25th percentile (Q1) and the 75th percentile (Q3) of the list.\n",
    "It calculates the interquartile range (IQR) as the difference between Q3 and Q1.\n",
    "It returns the computed IQR.\n",
    "Running the Code\n",
    "When you run the provided code, it will generate a list of 500 integers between 200 and 300, and then calculate and output the interquartile range (IQR) of this list. The iqr variable will contain the computed IQR value."
   ]
  },
  {
   "cell_type": "markdown",
   "id": "ce4e6450-fa7a-4b3b-82e9-f4f7be62fe83",
   "metadata": {},
   "source": [
    "  (v) Build a program to calculate the coefficient of variation for a dataset."
   ]
  },
  {
   "cell_type": "markdown",
   "id": "281d4d26-7a21-44ef-8889-91b0eb4ae412",
   "metadata": {},
   "source": [
    "The coefficient of variation (CV) is a measure of relative variability, calculated as the ratio of the standard deviation to the mean. To compute the coefficient of variation for a dataset, we'll define a Python function that takes the list of values as input and returns the coefficient of variation. Here's how you can implement it:"
   ]
  },
  {
   "cell_type": "code",
   "execution_count": 14,
   "id": "94474390-1628-4337-8011-8f70b511601b",
   "metadata": {},
   "outputs": [
    {
     "data": {
      "text/plain": [
       "12.100893448771737"
      ]
     },
     "execution_count": 14,
     "metadata": {},
     "output_type": "execute_result"
    }
   ],
   "source": [
    "import random\n",
    "import numpy as np\n",
    "\n",
    "# Step 1: Generate a list of 500 integers containing values between 200 to 300\n",
    "int_list2 = [random.randint(200, 300) for _ in range(500)]\n",
    "\n",
    "# Step 2: Implement a function to calculate the coefficient of variation (CV)\n",
    "def calculate_coefficient_of_variation(numbers):\n",
    "    mean = np.mean(numbers)\n",
    "    stddev = np.std(numbers)\n",
    "    \n",
    "    # Avoid division by zero\n",
    "    if mean == 0:\n",
    "        return np.nan\n",
    "    \n",
    "    coefficient_of_variation = (stddev / mean) * 100\n",
    "    return coefficient_of_variation\n",
    "\n",
    "# Calculate the coefficient of variation of int_list2\n",
    "coefficient_of_variation = calculate_coefficient_of_variation(int_list2)\n",
    "\n",
    "# Output the result\n",
    "coefficient_of_variation\n"
   ]
  },
  {
   "cell_type": "markdown",
   "id": "6212afb4-2527-4d66-9c65-aa568eed4c01",
   "metadata": {},
   "source": [
    "Explanation\n",
    "Generating the List:\n",
    "\n",
    "We use a list comprehension along with random.randint(200, 300) to generate 500 random integers between 200 and 300.\n",
    "The list is stored in the variable int_list2.\n",
    "Calculating the Coefficient of Variation (CV):\n",
    "\n",
    "The function calculate_coefficient_of_variation takes a list of numbers as input.\n",
    "It calculates the mean and standard deviation of the list using NumPy's np.mean and np.std functions, respectively.\n",
    "It computes the coefficient of variation as (stddev / mean) * 100.\n",
    "It returns the computed coefficient of variation.\n",
    "Running the Code\n",
    "When you run the provided code, it will generate a list of 500 integers between 200 and 300, and then calculate and output the coefficient of variation for this list. The coefficient_of_variation variable will contain the computed coefficient of variation value.\n",
    "\n",
    "\n",
    "\n",
    "\n",
    "\n",
    "\n"
   ]
  },
  {
   "cell_type": "markdown",
   "id": "e578f0ce-c6a3-427b-89f2-da2dbe0f5c4b",
   "metadata": {},
   "source": [
    " (vi) Write a Python function to find the mean absolute deviation (MAD) of a list of numbers."
   ]
  },
  {
   "cell_type": "markdown",
   "id": "aac9f74d-0e9c-439b-93b9-bef23748fb00",
   "metadata": {},
   "source": [
    "To find the mean absolute deviation (MAD) of a list of numbers, we'll compute the absolute difference between each element in the list and the mean of the list, then take the mean of these absolute differences. Here's how you can implement this function:"
   ]
  },
  {
   "cell_type": "code",
   "execution_count": 15,
   "id": "6dc1a42b-3ade-44ef-b364-5db09f3e555f",
   "metadata": {},
   "outputs": [
    {
     "data": {
      "text/plain": [
       "24.422279999999997"
      ]
     },
     "execution_count": 15,
     "metadata": {},
     "output_type": "execute_result"
    }
   ],
   "source": [
    "import random\n",
    "import numpy as np\n",
    "\n",
    "# Step 1: Generate a list of 500 integers containing values between 200 to 300\n",
    "int_list2 = [random.randint(200, 300) for _ in range(500)]\n",
    "\n",
    "# Step 2: Implement a function to calculate the mean absolute deviation (MAD)\n",
    "def calculate_mean_absolute_deviation(numbers):\n",
    "    mean = np.mean(numbers)\n",
    "    absolute_deviations = np.abs(numbers - mean)\n",
    "    mad = np.mean(absolute_deviations)\n",
    "    \n",
    "    return mad\n",
    "\n",
    "# Calculate the mean absolute deviation of int_list2\n",
    "mad = calculate_mean_absolute_deviation(int_list2)\n",
    "\n",
    "# Output the result\n",
    "mad\n"
   ]
  },
  {
   "cell_type": "markdown",
   "id": "6743eba0-ea2f-4f22-85bf-f3de21209440",
   "metadata": {},
   "source": [
    "Explanation\n",
    "Generating the List:\n",
    "\n",
    "We use a list comprehension along with random.randint(200, 300) to generate 500 random integers between 200 and 300.\n",
    "The list is stored in the variable int_list2.\n",
    "Calculating the Mean Absolute Deviation (MAD):\n",
    "\n",
    "The function calculate_mean_absolute_deviation takes a list of numbers as input.\n",
    "It calculates the mean of the list using NumPy's np.mean function.\n",
    "It computes the absolute deviations of each element from the mean using np.abs.\n",
    "It calculates the mean of these absolute deviations to obtain the mean absolute deviation (MAD).\n",
    "It returns the computed MAD.\n",
    "Running the Code\n",
    "When you run the provided code, it will generate a list of 500 integers between 200 and 300, and then calculate and output the mean absolute deviation (MAD) for this list. The mad variable will contain the computed MAD value.\n",
    "\n",
    "\n",
    "\n",
    "\n",
    "\n",
    "\n"
   ]
  },
  {
   "cell_type": "markdown",
   "id": "5bb85f17-de08-45d5-9a8b-865b1634dbf2",
   "metadata": {},
   "source": [
    "(vii) Create a program to calculate the quartile deviation of a list of values."
   ]
  },
  {
   "cell_type": "markdown",
   "id": "6478aa57-9267-4542-bab8-43e84a343e05",
   "metadata": {},
   "source": [
    "To calculate the quartile deviation of a list of values, we need to first calculate the interquartile range (IQR), and then divide it by 2. The interquartile range (IQR) is the difference between the third quartile (Q3) and the first quartile (Q1).\n",
    "\n",
    "Here's how you can implement this program:"
   ]
  },
  {
   "cell_type": "code",
   "execution_count": 16,
   "id": "59955cf9-10bd-4055-900c-4c36153c9929",
   "metadata": {},
   "outputs": [
    {
     "data": {
      "text/plain": [
       "25.0"
      ]
     },
     "execution_count": 16,
     "metadata": {},
     "output_type": "execute_result"
    }
   ],
   "source": [
    "import random\n",
    "import numpy as np\n",
    "\n",
    "# Step 1: Generate a list of 500 integers containing values between 200 to 300\n",
    "int_list2 = [random.randint(200, 300) for _ in range(500)]\n",
    "\n",
    "# Step 2: Create a function to calculate the quartile deviation\n",
    "def calculate_quartile_deviation(numbers):\n",
    "    # Calculate the first quartile (Q1)\n",
    "    q1 = np.percentile(numbers, 25)\n",
    "    # Calculate the third quartile (Q3)\n",
    "    q3 = np.percentile(numbers, 75)\n",
    "    # Calculate the interquartile range (IQR)\n",
    "    iqr = q3 - q1\n",
    "    # Calculate the quartile deviation (QD)\n",
    "    qd = iqr / 2\n",
    "    \n",
    "    return qd\n",
    "\n",
    "# Calculate the quartile deviation of int_list2\n",
    "quartile_deviation = calculate_quartile_deviation(int_list2)\n",
    "\n",
    "# Output the result\n",
    "quartile_deviation\n"
   ]
  },
  {
   "cell_type": "markdown",
   "id": "a45ecc51-b989-43dd-861b-959764692892",
   "metadata": {},
   "source": [
    "Explanation\n",
    "Generating the List:\n",
    "\n",
    "We use a list comprehension along with random.randint(200, 300) to generate 500 random integers between 200 and 300.\n",
    "The list is stored in the variable int_list2.\n",
    "Calculating the Quartile Deviation:\n",
    "\n",
    "The function calculate_quartile_deviation takes a list of numbers as input.\n",
    "It calculates the first quartile (Q1) and third quartile (Q3) of the list using NumPy's np.percentile function.\n",
    "It calculates the interquartile range (IQR) as the difference between Q3 and Q1.\n",
    "It calculates the quartile deviation (QD) as half of the interquartile range (IQR).\n",
    "It returns the computed quartile deviation.\n",
    "Running the Code\n",
    "When you run the provided code, it will generate a list of 500 integers between 200 and 300, and then calculate and output the quartile deviation for this list. The quartile_deviation variable will contain the computed quartile deviation value."
   ]
  },
  {
   "cell_type": "markdown",
   "id": "ab4bf4d4-7698-42e0-937e-8c9c4f7d523c",
   "metadata": {},
   "source": [
    " (viii) Implement a function to find the range-based coefficient of dispersion for a dataset"
   ]
  },
  {
   "cell_type": "markdown",
   "id": "fcf99613-93d6-4d0d-a49c-d1d311459858",
   "metadata": {},
   "source": [
    "To calculate the range-based coefficient of dispersion for a dataset, we'll use the formula:\n",
    "\n",
    "RCD= Range/Median  ×100\n",
    "Where:\n",
    "Range is the difference between the maximum and minimum values.\n",
    "\n",
    "Median is the median of the dataset.\n",
    "Here's how you can implement this function:\n"
   ]
  },
  {
   "cell_type": "code",
   "execution_count": 17,
   "id": "e6289f4b-3c7f-4664-ad10-20f789fe78ca",
   "metadata": {},
   "outputs": [
    {
     "data": {
      "text/plain": [
       "40.24144869215292"
      ]
     },
     "execution_count": 17,
     "metadata": {},
     "output_type": "execute_result"
    }
   ],
   "source": [
    "import random\n",
    "import numpy as np\n",
    "\n",
    "# Step 1: Generate a list of 500 integers containing values between 200 to 300\n",
    "int_list2 = [random.randint(200, 300) for _ in range(500)]\n",
    "\n",
    "# Step 2: Implement a function to calculate the range-based coefficient of dispersion (RCD)\n",
    "def calculate_range_based_coefficient_of_dispersion(numbers):\n",
    "    # Calculate the range\n",
    "    range_value = np.max(numbers) - np.min(numbers)\n",
    "    # Calculate the median\n",
    "    median = np.median(numbers)\n",
    "    # Calculate the range-based coefficient of dispersion\n",
    "    rcd = (range_value / median) * 100\n",
    "    \n",
    "    return rcd\n",
    "\n",
    "# Calculate the range-based coefficient of dispersion for int_list2\n",
    "rcd = calculate_range_based_coefficient_of_dispersion(int_list2)\n",
    "\n",
    "# Output the result\n",
    "rcd\n"
   ]
  },
  {
   "cell_type": "markdown",
   "id": "12207520-7ce5-4032-82b8-1ad0becb8d60",
   "metadata": {},
   "source": [
    "Explanation\n",
    "Generating the List:\n",
    "\n",
    "We use a list comprehension along with random.randint(200, 300) to generate 500 random integers between 200 and 300.\n",
    "The list is stored in the variable int_list2.\n",
    "Calculating the Range-based Coefficient of Dispersion (RCD):\n",
    "\n",
    "The function calculate_range_based_coefficient_of_dispersion takes a list of numbers as input.\n",
    "It calculates the range as the difference between the maximum and minimum values of the list.\n",
    "It calculates the median of the list using NumPy's np.median function.\n",
    "It calculates the range-based coefficient of dispersion (RCD) using the formula mentioned above.\n",
    "It returns the computed RCD.\n",
    "Running the Code\n",
    "When you run the provided code, it will generate a list of 500 integers between 200 and 300, and then calculate and output the range-based coefficient of dispersion for this list. The rcd variable will contain the computed RCD value."
   ]
  },
  {
   "cell_type": "markdown",
   "id": "08f4322e-f094-445e-8a99-fe3f4c2b2d17",
   "metadata": {},
   "source": [
    "3.  Write a Python class representing a discrete random variable with methods to calculate its expected\n",
    "value and variance"
   ]
  },
  {
   "cell_type": "markdown",
   "id": "aa06a955-ace8-4165-8cd1-06832be4ac53",
   "metadata": {},
   "source": [
    "Sure, here's how you can define a Python class representing a discrete random variable with methods to calculate its expected value and variance:"
   ]
  },
  {
   "cell_type": "code",
   "execution_count": 18,
   "id": "1d28d1ff-8a5b-42b7-ad52-e9f1aeb21152",
   "metadata": {},
   "outputs": [
    {
     "name": "stdout",
     "output_type": "stream",
     "text": [
      "Expected Value: 3.2\n",
      "Variance: 1.56\n"
     ]
    }
   ],
   "source": [
    "class DiscreteRandomVariable:\n",
    "    def __init__(self, values, probabilities):\n",
    "        \"\"\"\n",
    "        Initialize the DiscreteRandomVariable with its values and corresponding probabilities.\n",
    "        \n",
    "        :param values: List of possible values of the random variable.\n",
    "        :param probabilities: List of probabilities corresponding to the values.\n",
    "        \"\"\"\n",
    "        if len(values) != len(probabilities):\n",
    "            raise ValueError(\"Lengths of values and probabilities must be the same.\")\n",
    "        \n",
    "        self.values = values\n",
    "        self.probabilities = probabilities\n",
    "        \n",
    "    def expected_value(self):\n",
    "        \"\"\"\n",
    "        Calculate the expected value of the random variable.\n",
    "        \n",
    "        :return: The expected value.\n",
    "        \"\"\"\n",
    "        return sum(value * probability for value, probability in zip(self.values, self.probabilities))\n",
    "    \n",
    "    def variance(self):\n",
    "        \"\"\"\n",
    "        Calculate the variance of the random variable.\n",
    "        \n",
    "        :return: The variance.\n",
    "        \"\"\"\n",
    "        expected_value = self.expected_value()\n",
    "        return sum(probability * (value - expected_value) ** 2 for value, probability in zip(self.values, self.probabilities))\n",
    "\n",
    "\n",
    "# Example usage:\n",
    "values = [1, 2, 3, 4, 5]\n",
    "probabilities = [0.1, 0.2, 0.3, 0.2, 0.2]\n",
    "\n",
    "# Create a DiscreteRandomVariable object\n",
    "random_variable = DiscreteRandomVariable(values, probabilities)\n",
    "\n",
    "# Calculate and print the expected value and variance\n",
    "print(\"Expected Value:\", random_variable.expected_value())\n",
    "print(\"Variance:\", random_variable.variance())\n"
   ]
  },
  {
   "cell_type": "markdown",
   "id": "4b577ffc-bd93-4ef5-b34a-db57b27e3df3",
   "metadata": {},
   "source": [
    "Explanation:\n",
    "DiscreteRandomVariable Class:\n",
    "\n",
    "This class represents a discrete random variable.\n",
    "It is initialized with two lists: values (list of possible values of the random variable) and probabilities (list of probabilities corresponding to the values).\n",
    "It has two methods:\n",
    "expected_value(): Calculates the expected value of the random variable using the formula Σ(x * P(x)), where x is the value and P(x) is the probability.\n",
    "variance(): Calculates the variance of the random variable using the formula Σ((x - μ)^2 * P(x)), where x is the value, μ is the expected value, and P(x) is the probability.\n",
    "Example Usage:\n",
    "\n",
    "We create an instance of the DiscreteRandomVariable class with example values and probabilities.\n",
    "We then calculate and print the expected value and variance of this random variable.\n",
    "Running the Code:\n",
    "When you run the provided code, it will create a DiscreteRandomVariable object with example values and probabilities, and then calculate and print its expected value and variance.\n",
    "\n",
    "\n",
    "\n",
    "\n",
    "\n",
    "\n"
   ]
  },
  {
   "cell_type": "markdown",
   "id": "51777779-583c-4387-85f5-6faa5d0e5377",
   "metadata": {},
   "source": [
    "4. Implement a program to simulate the rolling o6 a 6air six-sided die and calculate the expected value and\n",
    "variance of the outcomes."
   ]
  },
  {
   "cell_type": "markdown",
   "id": "660fd98b-8d61-4121-850a-8ecffd9eb1a2",
   "metadata": {},
   "source": [
    "To simulate rolling a fair six-sided die and calculate the expected value and variance of the outcomes, we can use the following steps:\n",
    "\n",
    "Simulate rolling the die a large number of times to collect data on the outcomes.\n",
    "Calculate the expected value and variance based on the collected data.\n",
    "Here's how you can implement this program in Python:"
   ]
  },
  {
   "cell_type": "code",
   "execution_count": 19,
   "id": "8e112ad1-3ce2-455f-8c6e-eed4f58f63fb",
   "metadata": {},
   "outputs": [
    {
     "name": "stdout",
     "output_type": "stream",
     "text": [
      "Expected Value: 3.49519\n",
      "Variance: 2.9220568639\n"
     ]
    }
   ],
   "source": [
    "import random\n",
    "import numpy as np\n",
    "\n",
    "class SixSidedDie:\n",
    "    def __init__(self):\n",
    "        \"\"\"\n",
    "        Initialize the SixSidedDie class.\n",
    "        \"\"\"\n",
    "        self.sides = 6\n",
    "    \n",
    "    def roll(self):\n",
    "        \"\"\"\n",
    "        Simulate rolling the six-sided die.\n",
    "        \n",
    "        :return: The outcome of the roll (an integer between 1 and 6).\n",
    "        \"\"\"\n",
    "        return random.randint(1, self.sides)\n",
    "\n",
    "def simulate_rolls(die, num_rolls):\n",
    "    \"\"\"\n",
    "    Simulate rolling the die a specified number of times.\n",
    "    \n",
    "    :param die: An instance of the SixSidedDie class.\n",
    "    :param num_rolls: The number of times to roll the die.\n",
    "    :return: A list containing the outcomes of the rolls.\n",
    "    \"\"\"\n",
    "    return [die.roll() for _ in range(num_rolls)]\n",
    "\n",
    "# Create an instance of the SixSidedDie class\n",
    "die = SixSidedDie()\n",
    "\n",
    "# Simulate rolling the die 100,000 times\n",
    "num_rolls = 100000\n",
    "outcomes = simulate_rolls(die, num_rolls)\n",
    "\n",
    "# Calculate the expected value and variance\n",
    "expected_value = np.mean(outcomes)\n",
    "variance = np.var(outcomes)\n",
    "\n",
    "# Print the results\n",
    "print(\"Expected Value:\", expected_value)\n",
    "print(\"Variance:\", variance)\n"
   ]
  },
  {
   "cell_type": "markdown",
   "id": "3e5b12c5-9b84-40e0-8061-626be0ff9fa0",
   "metadata": {},
   "source": [
    "Explanation:\n",
    "SixSidedDie Class:\n",
    "\n",
    "This class represents a six-sided die.\n",
    "It has a method roll() to simulate rolling the die, which returns a random integer between 1 and 6.\n",
    "simulate_rolls Function:\n",
    "\n",
    "This function simulates rolling the die a specified number of times and returns a list containing the outcomes of the rolls.\n",
    "Simulation and Calculation:\n",
    "\n",
    "We create an instance of the SixSidedDie class.\n",
    "We simulate rolling the die 100,000 times and collect the outcomes.\n",
    "We calculate the expected value and variance of the outcomes using NumPy functions np.mean and np.var.\n",
    "Printing the Results:\n",
    "\n",
    "We print the calculated expected value and variance.\n",
    "Running the Code:\n",
    "When you run the provided code, it will simulate rolling a fair six-sided die 100,000 times, calculate the expected value and variance of the outcomes, and then print the results.\n",
    "\n",
    "\n",
    "\n",
    "\n",
    "\n",
    "\n"
   ]
  },
  {
   "cell_type": "markdown",
   "id": "5872951e-6282-488d-9260-8bf3abbe57af",
   "metadata": {},
   "source": [
    "5. Create a P\u001e",
    "thon 6unction to generate random samples 6rom a given probability distribution (e.g.,\n",
    "binomial, Poisson) and calculate their mean and variance."
   ]
  },
  {
   "cell_type": "markdown",
   "id": "d9ceff63-3faa-4df0-b5b1-64d0264553d4",
   "metadata": {},
   "source": [
    "To create a Python function to generate random samples from a given probability distribution (such as binomial or Poisson) and calculate their mean and variance, we can utilize NumPy's random module, which provides various functions for generating random samples from different probability distributions. Here's a general outline of how you can implement this:"
   ]
  },
  {
   "cell_type": "code",
   "execution_count": 20,
   "id": "6993654d-df88-47a1-91b3-22c1717220b0",
   "metadata": {},
   "outputs": [
    {
     "name": "stdout",
     "output_type": "stream",
     "text": [
      "Mean: 4.932\n",
      "Variance: 2.4293760000000004\n"
     ]
    }
   ],
   "source": [
    "import numpy as np\n",
    "\n",
    "def generate_samples(distribution, params, sample_size):\n",
    "    \"\"\"\n",
    "    Generate random samples from a given probability distribution and calculate their mean and variance.\n",
    "    \n",
    "    :param distribution: The name of the probability distribution (e.g., 'binomial', 'poisson').\n",
    "    :param params: A tuple containing the parameters required by the distribution.\n",
    "    :param sample_size: The size of the random sample to generate.\n",
    "    :return: A tuple containing the mean and variance of the generated samples.\n",
    "    \"\"\"\n",
    "    if distribution == 'binomial':\n",
    "        samples = np.random.binomial(n=params[0], p=params[1], size=sample_size)\n",
    "    elif distribution == 'poisson':\n",
    "        samples = np.random.poisson(lam=params[0], size=sample_size)\n",
    "    # Add more distributions as needed\n",
    "    \n",
    "    mean = np.mean(samples)\n",
    "    variance = np.var(samples)\n",
    "    \n",
    "    return mean, variance\n",
    "\n",
    "# Example usage:\n",
    "distribution = 'binomial'\n",
    "params = (10, 0.5)  # Parameters for binomial distribution (n, p)\n",
    "sample_size = 1000\n",
    "\n",
    "mean, variance = generate_samples(distribution, params, sample_size)\n",
    "print(\"Mean:\", mean)\n",
    "print(\"Variance:\", variance)\n"
   ]
  },
  {
   "cell_type": "markdown",
   "id": "ee438870-a5f6-4b6d-9588-e4901e2a96d4",
   "metadata": {},
   "source": [
    "Explanation:\n",
    "generate_samples Function:\n",
    "\n",
    "This function generates random samples from a given probability distribution and calculates their mean and variance.\n",
    "It takes three parameters:\n",
    "distribution: The name of the probability distribution (e.g., 'binomial', 'poisson').\n",
    "params: A tuple containing the parameters required by the distribution (e.g., for binomial distribution, (n, p) where n is the number of trials and p is the probability of success).\n",
    "sample_size: The size of the random sample to generate.\n",
    "Inside the function, based on the specified distribution, it generates random samples using NumPy's random module functions (np.random.binomial for binomial distribution, np.random.poisson for Poisson distribution, etc.).\n",
    "It then calculates the mean and variance of the generated samples using NumPy's np.mean and np.var functions, respectively.\n",
    "Finally, it returns a tuple containing the mean and variance of the generated samples.\n",
    "Example Usage:\n",
    "\n",
    "We specify the distribution as 'binomial' and provide the parameters (10, 0.5) (number of trials and probability of success) for the binomial distribution.\n",
    "We specify the sample size as 1000.\n",
    "We call the generate_samples function with these parameters and print the calculated mean and variance.\n",
    "Running the Code:\n",
    "When you run the provided code, it will generate random samples from the specified probability distribution, calculate their mean and variance, and then print the results. You can adjust the distribution, parameters, and sample size as needed for different scenarios.\n",
    "\n",
    "\n",
    "\n",
    "\n",
    "\n",
    "\n"
   ]
  },
  {
   "cell_type": "markdown",
   "id": "6be69016-7299-4dd3-98cc-aa05cfb35ab8",
   "metadata": {},
   "source": [
    "6. Write a Python script to generate random numbers 6rom a Gaussian (normal) distribution and compute\n",
    "the mean, variance, and standard deviation of the samples."
   ]
  },
  {
   "cell_type": "markdown",
   "id": "125f4cbc-4ad4-4ed3-8899-f8d51e8fbdbd",
   "metadata": {},
   "source": [
    "Certainly! You can use NumPy's numpy.random.normal() function to generate random numbers from a Gaussian (normal) distribution and then calculate the mean, variance, and standard deviation of the generated samples. Here's a Python script to do that:"
   ]
  },
  {
   "cell_type": "code",
   "execution_count": 22,
   "id": "35d3c937-48d1-420e-80f4-3844ac53c0d7",
   "metadata": {},
   "outputs": [
    {
     "name": "stdout",
     "output_type": "stream",
     "text": [
      "Mean: -0.03963435852191778\n",
      "Variance: 1.0991172033391376\n",
      "Standard Deviation: 1.0483879069023725\n"
     ]
    }
   ],
   "source": [
    "import numpy as np\n",
    "\n",
    "# Set the parameters for the normal distribution\n",
    "mean = 0  # Mean of the normal distribution\n",
    "std_dev = 1  # Standard deviation of the normal distribution\n",
    "sample_size = 1000  # Number of samples to generate\n",
    "\n",
    "# Generate random samples from the normal distribution\n",
    "samples = np.random.normal(mean, std_dev, sample_size)\n",
    "\n",
    "# Calculate the mean, variance, and standard deviation of the samples\n",
    "mean_value = np.mean(samples)\n",
    "variance_value = np.var(samples)\n",
    "std_dev_value = np.std(samples)\n",
    "\n",
    "# Print the calculated statistics\n",
    "print(\"Mean:\", mean_value)\n",
    "print(\"Variance:\", variance_value)\n",
    "print(\"Standard Deviation:\", std_dev_value)\n"
   ]
  },
  {
   "cell_type": "markdown",
   "id": "e4559a89-25f4-4a13-aecc-6db54d700840",
   "metadata": {},
   "source": [
    "This script generates 1000 random samples from a Gaussian (normal) distribution with a mean of 0 and a standard deviation of 1. It then calculates and prints the mean, variance, and standard deviation of the generated samples.\n",
    "\n",
    "You can adjust the mean, std_dev, and sample_size variables according to your requirements."
   ]
  },
  {
   "cell_type": "markdown",
   "id": "6a5c0a9e-7607-42d5-851a-cc9c3f70240d",
   "metadata": {},
   "source": [
    "7. Use seaborn library to load tips dataset. Find the following 6rom the dataset 6or the columns total_bill\n",
    "and tip`:\n",
    "  (1.) Write a Python function that calculates their skewness."
   ]
  },
  {
   "cell_type": "markdown",
   "id": "812d1d2c-cf8b-476d-8e92-a7c2dbd8eb56",
   "metadata": {},
   "source": [
    "You can use the Seaborn library to load the tips dataset and then calculate the skewness for the 'total_bill' and 'tip' columns. Here's how you can do it:"
   ]
  },
  {
   "cell_type": "code",
   "execution_count": 23,
   "id": "43f3a6ee-66d2-4877-807e-a9bcbb531a81",
   "metadata": {},
   "outputs": [
    {
     "name": "stdout",
     "output_type": "stream",
     "text": [
      "Skewness for 'total_bill': 1.1262346334818638\n",
      "Skewness for 'tip': 1.4564266884221506\n"
     ]
    }
   ],
   "source": [
    "import seaborn as sns\n",
    "import pandas as pd\n",
    "from scipy.stats import skew\n",
    "\n",
    "# Load the tips dataset from Seaborn\n",
    "tips_df = sns.load_dataset('tips')\n",
    "\n",
    "# Function to calculate skewness\n",
    "def calculate_skewness(data):\n",
    "    return skew(data)\n",
    "\n",
    "# Calculate skewness for 'total_bill' and 'tip' columns\n",
    "skewness_total_bill = calculate_skewness(tips_df['total_bill'])\n",
    "skewness_tip = calculate_skewness(tips_df['tip'])\n",
    "\n",
    "# Print the skewness values\n",
    "print(\"Skewness for 'total_bill':\", skewness_total_bill)\n",
    "print(\"Skewness for 'tip':\", skewness_tip)\n"
   ]
  },
  {
   "cell_type": "markdown",
   "id": "9a44b23e-0acb-42f0-a00a-c724b2a75d2b",
   "metadata": {},
   "source": [
    "This script loads the tips dataset from Seaborn, defines a function to calculate skewness using SciPy's skew() function, and then applies this function to the 'total_bill' and 'tip' columns of the dataset. Finally, it prints the skewness values for both columns.\n",
    "\n",
    "You can further analyze the distribution of the data based on these skewness values. A skewness close to 0 indicates a symmetric distribution, while positive skewness indicates a right-skewed distribution and negative skewness indicates a left-skewed distribution."
   ]
  },
  {
   "cell_type": "markdown",
   "id": "d7f1fb28-f8ad-4b97-940d-70cd27408811",
   "metadata": {},
   "source": [
    " (2.) Create a program that determines whether the columns exhibit positive skewness, negative skewness, or is\n",
    "Approxmately symmetric"
   ]
  },
  {
   "cell_type": "markdown",
   "id": "960349dc-1a39-4833-bf4a-29f5480678b3",
   "metadata": {},
   "source": [
    "You can create a program to determine whether the columns 'total_bill' and 'tip' exhibit positive skewness, negative skewness, or are approximately symmetric based on their skewness values. Here's how you can do it:"
   ]
  },
  {
   "cell_type": "code",
   "execution_count": 24,
   "id": "b5cabac5-7470-4d9a-a95f-35a321a8b091",
   "metadata": {},
   "outputs": [
    {
     "name": "stdout",
     "output_type": "stream",
     "text": [
      "Skewness category for 'total_bill': Positive skewness\n",
      "Skewness category for 'tip': Positive skewness\n"
     ]
    }
   ],
   "source": [
    "import seaborn as sns\n",
    "from scipy.stats import skew\n",
    "\n",
    "# Load the tips dataset from Seaborn\n",
    "tips_df = sns.load_dataset('tips')\n",
    "\n",
    "# Function to determine skewness category\n",
    "def determine_skewness_category(skewness):\n",
    "    if skewness > 0.5:\n",
    "        return \"Positive skewness\"\n",
    "    elif skewness < -0.5:\n",
    "        return \"Negative skewness\"\n",
    "    else:\n",
    "        return \"Approximately symmetric\"\n",
    "\n",
    "# Calculate skewness for 'total_bill' and 'tip' columns\n",
    "skewness_total_bill = skew(tips_df['total_bill'])\n",
    "skewness_tip = skew(tips_df['tip'])\n",
    "\n",
    "# Determine skewness category for 'total_bill' and 'tip' columns\n",
    "skewness_category_total_bill = determine_skewness_category(skewness_total_bill)\n",
    "skewness_category_tip = determine_skewness_category(skewness_tip)\n",
    "\n",
    "# Print the skewness category for each column\n",
    "print(\"Skewness category for 'total_bill':\", skewness_category_total_bill)\n",
    "print(\"Skewness category for 'tip':\", skewness_category_tip)\n"
   ]
  },
  {
   "cell_type": "markdown",
   "id": "cb449d9d-8290-4474-b5eb-4562c1f64281",
   "metadata": {},
   "source": [
    "In this program, after loading the tips dataset from Seaborn, we define a function determine_skewness_category() to determine the skewness category based on the skewness value. We classify skewness as:\n",
    "\n",
    "\"Positive skewness\" if skewness > 0.5\n",
    "\"Negative skewness\" if skewness < -0.5\n",
    "\"Approximately symmetric\" otherwise\n",
    "Then, we calculate the skewness values for the 'total_bill' and 'tip' columns using SciPy's skew() function, determine their skewness categories, and print the results.\n",
    "\n",
    "This program provides a straightforward way to categorize the skewness of the columns 'total_bill' and 'tip' as positive, negative, or approximately symmetric."
   ]
  },
  {
   "cell_type": "markdown",
   "id": "449e8a85-9afc-4a63-a79d-adfe3818821c",
   "metadata": {},
   "source": [
    "  3. Write a function that calculates the covariance between two columns."
   ]
  },
  {
   "cell_type": "markdown",
   "id": "8b063cff-5848-4bbb-9af0-5f6e00564f86",
   "metadata": {},
   "source": [
    "You can write a function to calculate the covariance between two columns of a dataset loaded with Seaborn, such as the 'total_bill' and 'tip' columns from the tips dataset. Here's how you can do it:"
   ]
  },
  {
   "cell_type": "code",
   "execution_count": 25,
   "id": "86f528ce-73a8-4316-a93d-82e3381c4620",
   "metadata": {},
   "outputs": [
    {
     "name": "stdout",
     "output_type": "stream",
     "text": [
      "Covariance between 'total_bill' and 'tip': 8.323501629224854\n"
     ]
    }
   ],
   "source": [
    "import seaborn as sns\n",
    "\n",
    "# Load the tips dataset from Seaborn\n",
    "tips_df = sns.load_dataset('tips')\n",
    "\n",
    "# Function to calculate covariance between two columns\n",
    "def calculate_covariance(data, column1, column2):\n",
    "    cov_matrix = data[[column1, column2]].cov()\n",
    "    covariance = cov_matrix.loc[column1, column2]\n",
    "    return covariance\n",
    "\n",
    "# Calculate covariance between 'total_bill' and 'tip' columns\n",
    "covariance_total_bill_tip = calculate_covariance(tips_df, 'total_bill', 'tip')\n",
    "\n",
    "# Print the covariance between the two columns\n",
    "print(\"Covariance between 'total_bill' and 'tip':\", covariance_total_bill_tip)\n"
   ]
  },
  {
   "cell_type": "markdown",
   "id": "68c7aa82-c8be-4116-8039-e6fa59abc519",
   "metadata": {},
   "source": [
    "In this code:\n",
    "\n",
    "We load the tips dataset from Seaborn into a DataFrame named tips_df.\n",
    "We define a function calculate_covariance() that takes the dataset and the names of two columns as input. Inside the function:\n",
    "We calculate the covariance matrix of the selected columns using the cov() method.\n",
    "We extract the covariance value between the two columns from the covariance matrix.\n",
    "We return the covariance value.\n",
    "We call the calculate_covariance() function with the tips dataset and the column names 'total_bill' and 'tip' to calculate the covariance between these two columns.\n",
    "Finally, we print the computed covariance between the 'total_bill' and 'tip' columns.\n",
    "This function allows you to easily compute the covariance between any two columns in a dataset loaded with Seaborn."
   ]
  },
  {
   "cell_type": "markdown",
   "id": "300fbd5c-2ac1-43e8-99e9-54cfc71cd544",
   "metadata": {},
   "source": [
    "  (4.) Implement a Python program that calculates the Pearson correlation coefficient between two columns."
   ]
  },
  {
   "cell_type": "markdown",
   "id": "626824db-6c51-4901-87c7-b041ec69c055",
   "metadata": {},
   "source": [
    "You can calculate the Pearson correlation coefficient between the 'total_bill' and 'tip' columns from the tips dataset using the pearsonr function from the SciPy library. Here's how you can do it:"
   ]
  },
  {
   "cell_type": "code",
   "execution_count": 26,
   "id": "bb2f016c-4318-4e67-a49e-a0f92a190747",
   "metadata": {},
   "outputs": [
    {
     "name": "stdout",
     "output_type": "stream",
     "text": [
      "Pearson correlation coefficient between 'total_bill' and 'tip': 0.6757341092113647\n"
     ]
    }
   ],
   "source": [
    "import seaborn as sns\n",
    "from scipy.stats import pearsonr\n",
    "\n",
    "# Load the tips dataset from Seaborn\n",
    "tips_df = sns.load_dataset('tips')\n",
    "\n",
    "# Function to calculate Pearson correlation coefficient between two columns\n",
    "def calculate_pearson_correlation(data, column1, column2):\n",
    "    correlation_coefficient, _ = pearsonr(data[column1], data[column2])\n",
    "    return correlation_coefficient\n",
    "\n",
    "# Calculate Pearson correlation coefficient between 'total_bill' and 'tip' columns\n",
    "pearson_coefficient = calculate_pearson_correlation(tips_df, 'total_bill', 'tip')\n",
    "\n",
    "# Print the Pearson correlation coefficient between the two columns\n",
    "print(\"Pearson correlation coefficient between 'total_bill' and 'tip':\", pearson_coefficient)\n"
   ]
  },
  {
   "cell_type": "markdown",
   "id": "45e11518-8c72-4fda-af89-10f5d49e1577",
   "metadata": {},
   "source": [
    "In this code:\n",
    "\n",
    "We load the tips dataset from Seaborn into a DataFrame named tips_df.\n",
    "We define a function calculate_pearson_correlation() that takes the dataset and the names of two columns as input. Inside the function:\n",
    "We use the pearsonr() function from SciPy to calculate the Pearson correlation coefficient between the selected columns.\n",
    "We extract the correlation coefficient value from the returned tuple.\n",
    "We return the correlation coefficient value.\n",
    "We call the calculate_pearson_correlation() function with the tips dataset and the column names 'total_bill' and 'tip' to calculate the Pearson correlation coefficient between these two columns.\n",
    "Finally, we print the computed Pearson correlation coefficient between the 'total_bill' and 'tip' columns.\n",
    "This program allows you to easily compute the Pearson correlation coefficient between any two columns in a dataset loaded with Seaborn."
   ]
  },
  {
   "cell_type": "markdown",
   "id": "7fef8a16-4f0e-42a6-91cb-76cc7c63743d",
   "metadata": {},
   "source": [
    "(v) Write a script to v\u0013sualize the correlation between two specific columns in a Pandas DataFrame using\n",
    "scatter plots."
   ]
  },
  {
   "cell_type": "markdown",
   "id": "828d8532-093d-466a-96be-cd53e2dc1763",
   "metadata": {},
   "source": [
    "You can visualize the correlation between the 'total_bill' and 'tip' columns in the tips dataset using scatter plots with Seaborn. Here's how you can do it:"
   ]
  },
  {
   "cell_type": "code",
   "execution_count": 28,
   "id": "f5eafe8f-edf9-4a8d-9007-c77f6965ef28",
   "metadata": {},
   "outputs": [
    {
     "data": {
      "image/png": "[encoded data removed]",
      "text/plain": [
       "<Figure size 640x480 with 1 Axes>"
      ]
     },
     "metadata": {},
     "output_type": "display_data"
    }
   ],
   "source": [
    "import seaborn as sns\n",
    "\n",
    "# Load the tips dataset from Seaborn\n",
    "tips_df = sns.load_dataset('tips')\n",
    "\n",
    "# Plotting the correlation between 'total_bill' and 'tip' using scatter plot\n",
    "sns.scatterplot(x='total_bill', y='tip', data=tips_df)\n",
    "\n",
    "# Set plot title and axis labels\n",
    "plt.title('Correlation between Total Bill and Tip')\n",
    "plt.xlabel('Total Bill ($)')\n",
    "plt.ylabel('Tip ($)')\n",
    "\n",
    "# Show the plot\n",
    "plt.show()\n"
   ]
  },
  {
   "cell_type": "markdown",
   "id": "a8c22ca5-7f2b-4ef7-b5fc-879181820314",
   "metadata": {},
   "source": [
    "In this script:\n",
    "\n",
    "We first load the tips dataset from Seaborn into a DataFrame named tips_df.\n",
    "We then use Seaborn's scatterplot() function to create a scatter plot to visualize the correlation between the 'total_bill' (x-axis) and 'tip' (y-axis) columns.\n",
    "We set the plot title and axis labels using Matplotlib's title(), xlabel(), and ylabel() functions.\n",
    "Finally, we display the plot using Matplotlib's show() function.\n",
    "This script will generate a scatter plot showing the relationship between the 'total_bill' and 'tip' columns, allowing you to visually assess their correlation. If the points on the plot are clustered along a line, it indicates a strong correlation between the two variables.\n",
    "\n",
    "\n",
    "\n",
    "\n",
    "\n",
    "\n"
   ]
  },
  {
   "cell_type": "markdown",
   "id": "14c86829-ad86-4465-b9ef-d487f0b06e36",
   "metadata": {},
   "source": [
    "8. Write a Python function to calculate the probability density function (PDF) of a continuous random\n",
    "variable for a given normal distribution.\n"
   ]
  },
  {
   "cell_type": "markdown",
   "id": "b5d5922c-ca5e-4d99-9f89-b844bab1c8ea",
   "metadata": {},
   "source": [
    "Certainly! You can use the probability density function (PDF) formula for a normal distribution to\n",
    "create a Python function. The PDF of a normal distribution with mean \n",
    "𝜇 and standard deviation  𝜎\n",
    "\n",
    "Here's the Python function to calculate the PDF of a normal distribution:\n"
   ]
  },
  {
   "cell_type": "code",
   "execution_count": 29,
   "id": "59aff68c-cf35-4a8c-9e35-21261adf1269",
   "metadata": {},
   "outputs": [
    {
     "name": "stdout",
     "output_type": "stream",
     "text": [
      "PDF at x = 1 : 0.24197072451914337\n"
     ]
    }
   ],
   "source": [
    "import numpy as np\n",
    "\n",
    "def normal_pdf(x, mean, std_dev):\n",
    "    \"\"\"\n",
    "    Calculate the probability density function (PDF) of a normal distribution at a given point x.\n",
    "    \n",
    "    :param x: The point at which to evaluate the PDF.\n",
    "    :param mean: The mean (expected value) of the normal distribution.\n",
    "    :param std_dev: The standard deviation of the normal distribution.\n",
    "    :return: The PDF value at point x.\n",
    "    \"\"\"\n",
    "    coefficient = 1 / np.sqrt(2 * np.pi * std_dev**2)\n",
    "    exponent = -((x - mean)**2) / (2 * std_dev**2)\n",
    "    pdf_value = coefficient * np.exp(exponent)\n",
    "    return pdf_value\n",
    "\n",
    "# Example usage:\n",
    "mean = 0\n",
    "std_dev = 1\n",
    "x = 1\n",
    "\n",
    "# Calculate the PDF of the normal distribution at point x\n",
    "pdf_value = normal_pdf(x, mean, std_dev)\n",
    "\n",
    "# Print the PDF value\n",
    "print(\"PDF at x =\", x, \":\", pdf_value)\n"
   ]
  },
  {
   "cell_type": "markdown",
   "id": "25c09065-1aa6-4cf1-b2b6-ff01873f5e45",
   "metadata": {},
   "source": [
    "This function takes three parameters:\n",
    "\n",
    "x: The point at which to evaluate the PDF.\n",
    "mean: The mean (expected value) of the normal distribution.\n",
    "std_dev: The standard deviation of the normal distribution.\n",
    "It returns the PDF value at the given point x. You can adjust the mean, std_dev, and x parameters to calculate the PDF at different points for different normal distributions.\n",
    "\n",
    "\n",
    "\n",
    "\n",
    "\n",
    "\n"
   ]
  },
  {
   "cell_type": "markdown",
   "id": "dac8be6d-518c-435c-83b6-b805dcfd1988",
   "metadata": {},
   "source": [
    "9. Create a program to calculate the cumulative distribution function (CDF) o6 exponential distribution."
   ]
  },
  {
   "cell_type": "markdown",
   "id": "3bc2da1a-d078-4cd8-b3da-46a065e38b61",
   "metadata": {},
   "source": [
    "To calculate the cumulative distribution function (CDF) of the exponential distribution, you can use the cumulative distribution function formula for the exponential distribution. The CDF of the exponential distribution with parameter \n",
    "𝜆 at a point x is given by:\n",
    "\n",
    "F(x)=1−e (λx)\n",
    "\n",
    "Here's how you can implement this program in Python:\n"
   ]
  },
  {
   "cell_type": "code",
   "execution_count": 30,
   "id": "5fb484c7-684a-4c04-8d47-1db1a5c3d871",
   "metadata": {},
   "outputs": [
    {
     "name": "stdout",
     "output_type": "stream",
     "text": [
      "CDF at x = 1 : 0.3934693402873666\n"
     ]
    }
   ],
   "source": [
    "import numpy as np\n",
    "\n",
    "def exponential_cdf(x, lambd):\n",
    "    \"\"\"\n",
    "    Calculate the cumulative distribution function (CDF) of the exponential distribution at a given point x.\n",
    "    \n",
    "    :param x: The point at which to evaluate the CDF.\n",
    "    :param lambd: The parameter of the exponential distribution (inverse of the mean).\n",
    "    :return: The CDF value at point x.\n",
    "    \"\"\"\n",
    "    cdf_value = 1 - np.exp(-lambd * x)\n",
    "    return cdf_value\n",
    "\n",
    "# Example usage:\n",
    "lambd = 0.5  # Parameter of the exponential distribution\n",
    "x = 1        # Point at which to evaluate the CDF\n",
    "\n",
    "# Calculate the CDF of the exponential distribution at point x\n",
    "cdf_value = exponential_cdf(x, lambd)\n",
    "\n",
    "# Print the CDF value\n",
    "print(\"CDF at x =\", x, \":\", cdf_value)\n"
   ]
  },
  {
   "cell_type": "markdown",
   "id": "c7b81585-7181-456b-ac9e-ad53b7cad952",
   "metadata": {},
   "source": [
    "In this program:\n",
    "\n",
    "x is the point at which to evaluate the CDF.\n",
    "lambd is the parameter of the exponential distribution (inverse of the mean).\n",
    "The function exponential_cdf() calculates the CDF value at point x using the exponential distribution's CDF formula.\n",
    "It returns the CDF value at point x.\n",
    "You can adjust the lambd and x variables according to your specific exponential distribution and the point at which you want to evaluate the CDF."
   ]
  },
  {
   "cell_type": "markdown",
   "id": "949b689c-af3a-470c-a19d-95c95bb31f6d",
   "metadata": {},
   "source": [
    "10. Write a Python function to calculate the probability mass 6unction (PMF) o6 Poisson distribution."
   ]
  },
  {
   "cell_type": "markdown",
   "id": "39246ba5-d8a5-4b40-b6eb-f64ce2d5e6ed",
   "metadata": {},
   "source": [
    "To calculate the probability mass function (PMF) of a Poisson distribution, you can use the PMF \n",
    "formula for the Poisson distribution. The PMF of a Poisson distribution with parameter \n",
    "𝜆 at a specific point \n",
    "𝑘 is given by:\n",
    "\n",
    "Here's how you can implement this function in Python"
   ]
  },
  {
   "cell_type": "code",
   "execution_count": 31,
   "id": "d8d4b62d-e667-4d83-95e8-84c6f6c03599",
   "metadata": {},
   "outputs": [
    {
     "name": "stdout",
     "output_type": "stream",
     "text": [
      "PMF at k = 2 : 0.22404180765538775\n"
     ]
    }
   ],
   "source": [
    "import numpy as np\n",
    "import math\n",
    "\n",
    "def poisson_pmf(k, lambd):\n",
    "    \"\"\"\n",
    "    Calculate the probability mass function (PMF) of a Poisson distribution at a given point k.\n",
    "    \n",
    "    :param k: The point at which to evaluate the PMF.\n",
    "    :param lambd: The parameter of the Poisson distribution (mean and variance).\n",
    "    :return: The PMF value at point k.\n",
    "    \"\"\"\n",
    "    pmf_value = (np.exp(-lambd) * lambd**k) / math.factorial(k)\n",
    "    return pmf_value\n",
    "\n",
    "# Example usage:\n",
    "lambd = 3  # Parameter of the Poisson distribution\n",
    "k = 2      # Point at which to evaluate the PMF\n",
    "\n",
    "# Calculate the PMF of the Poisson distribution at point k\n",
    "pmf_value = poisson_pmf(k, lambd)\n",
    "\n",
    "# Print the PMF value\n",
    "print(\"PMF at k =\", k, \":\", pmf_value)\n"
   ]
  },
  {
   "cell_type": "markdown",
   "id": "23373e65-7643-4aff-85fd-303150ad89ba",
   "metadata": {},
   "source": [
    "In this program:\n",
    "\n",
    "k is the point at which to evaluate the PMF.\n",
    "lambd is the parameter of the Poisson distribution (mean and variance).\n",
    "The function poisson_pmf() calculates the PMF value at point k using the Poisson distribution's PMF formula.\n",
    "It returns the PMF value at point k.\n",
    "You can adjust the lambd and k variables according to your specific Poisson distribution and the point at which you want to evaluate the PMF."
   ]
  },
  {
   "cell_type": "markdown",
   "id": "f8c6cb27-a900-483e-ba2d-bed095eed6ad",
   "metadata": {},
   "source": [
    "11. A company wants to test if a new website layout leads to a higher conversion rate (percentage oN visitors\n",
    "who make a purchase). They collect data From the old and new layouts to compare.\n",
    "\n",
    "\n",
    "To generate the data use the following command:\n",
    "\n",
    "```python\n",
    "\n",
    "import numpy as np\n",
    "\n",
    "# 50 purchases out of 1000 visitors\n",
    "old_layout = np.array([1] * 50 + [0] * 950)\n",
    "# 70 purchases out of 1000 visitors \n",
    "new_layout = np.array([1] * 70 + [0] * 930)\n",
    "\n",
    "Apply z-test to fi<d which layout is successful."
   ]
  },
  {
   "cell_type": "markdown",
   "id": "c193c872-816f-4ee7-9671-2f94d39804a4",
   "metadata": {},
   "source": [
    "To compare the conversion rates of the old and new website layouts, you can use a z-test for proportions. The z-test compares the difference in proportions between two groups (in this case, the old and new layouts) to determine if the difference is statistically significant.\n",
    "\n",
    "Here's how you can apply the z-test in Python:"
   ]
  },
  {
   "cell_type": "code",
   "execution_count": 37,
   "id": "467aee98-96bb-4d01-9e17-188880a4be80",
   "metadata": {},
   "outputs": [
    {
     "name": "stdout",
     "output_type": "stream",
     "text": [
      "Z-test statistic: -1.883108942886774\n",
      "P-value: 0.029842802766213105\n",
      "The difference in conversion rates is statistically significant. The new layout leads to a higher conversion rate.\n"
     ]
    }
   ],
   "source": [
    "import numpy as np\n",
    "from scipy.stats import norm\n",
    "\n",
    "# Data\n",
    "old_layout = np.array([1] * 50 + [0] * 950)\n",
    "new_layout = np.array([1] * 70 + [0] * 930)\n",
    "\n",
    "# Number of successes (purchases) and total number of trials (visitors) for both layouts\n",
    "successes = np.array([old_layout.sum(), new_layout.sum()])\n",
    "trials = np.array([len(old_layout), len(new_layout)])\n",
    "\n",
    "# Proportions\n",
    "p1 = successes[0] / trials[0]\n",
    "p2 = successes[1] / trials[1]\n",
    "\n",
    "# Pooled proportion\n",
    "p_pool = (successes.sum()) / (trials.sum())\n",
    "\n",
    "# Standard error\n",
    "std_error = np.sqrt(p_pool * (1 - p_pool) * (1 / trials[0] + 1 / trials[1]))\n",
    "\n",
    "# Z-test statistic\n",
    "z = (p1 - p2) / std_error\n",
    "\n",
    "# P-value\n",
    "p_value = norm.cdf(z)\n",
    "\n",
    "# Printing results\n",
    "print(\"Z-test statistic:\", z)\n",
    "print(\"P-value:\", p_value)\n",
    "\n",
    "# Interpretation\n",
    "if p_value < 0.05:\n",
    "    print(\"The difference in conversion rates is statistically significant. The new layout leads to a higher conversion rate.\")\n",
    "else:\n",
    "    print(\"There is not enough evidence to conclude that the new layout leads to a higher conversion rate.\")\n"
   ]
  },
  {
   "cell_type": "markdown",
   "id": "e3a488ea-8e2e-43cf-88cd-0b18329b51dd",
   "metadata": {},
   "source": [
    "This code imports necessary libraries and then conducts a z-test to compare the proportions of successes (purchases) in the old and new layouts. The result will indicate whether the difference in conversion rates is statistically significant."
   ]
  },
  {
   "cell_type": "markdown",
   "id": "25137d3d-9981-435d-82dd-a6349d73239f",
   "metadata": {},
   "source": [
    "12. A tutoring service claims that its program improves students' exam scores. A sample of students who\n",
    "participated in the program was taken, and their scores before and after the program were recorded.\n",
    "\n",
    "Use the below code to generate samples of respective arrays of marks:\n",
    "\n",
    "```python\n",
    "\n",
    "before_program = np.array([75, 80, 85, 70, 90, 78, 92, 88, 82, 87])\n",
    "\n",
    "after_program = np.array([80, 85, 90, 80, 92, 80, 95, 90, 85, 88])\n",
    "\n",
    "```\n",
    "\n",
    "Use z-test to find if the claims made by tutor are true or false.\n",
    "    "
   ]
  },
  {
   "cell_type": "markdown",
   "id": "4743c5e9-eaa4-49b0-a357-d1ad7d9e0fb0",
   "metadata": {},
   "source": [
    "To determine if the tutoring program improves students' exam scores, we can perform a paired-sample z-test. This test compares the mean difference between the before and after scores to see if it's significantly different from zero. Here's how you can implement it using Python:"
   ]
  },
  {
   "cell_type": "code",
   "execution_count": 38,
   "id": "0bcb39f6-4785-478b-87e3-9b61f381ccbb",
   "metadata": {},
   "outputs": [
    {
     "name": "stdout",
     "output_type": "stream",
     "text": [
      "Z-test statistic: 4.593190894944668\n",
      "P-value: 0.9999978174029474\n",
      "There is not enough evidence to conclude that the tutoring program improves students' exam scores.\n"
     ]
    }
   ],
   "source": [
    "import numpy as np\n",
    "from scipy.stats import norm\n",
    "\n",
    "# Data\n",
    "before_program = np.array([75, 80, 85, 70, 90, 78, 92, 88, 82, 87])\n",
    "after_program = np.array([80, 85, 90, 80, 92, 80, 95, 90, 85, 88])\n",
    "\n",
    "# Calculate the difference between after and before scores\n",
    "score_difference = after_program - before_program\n",
    "\n",
    "# Number of samples\n",
    "n = len(score_difference)\n",
    "\n",
    "# Mean and standard deviation of the difference\n",
    "mean_difference = np.mean(score_difference)\n",
    "std_dev_difference = np.std(score_difference, ddof=1)\n",
    "\n",
    "# Standard error\n",
    "standard_error = std_dev_difference / np.sqrt(n)\n",
    "\n",
    "# Null hypothesis: Mean difference is zero\n",
    "# Z-test statistic\n",
    "z_score = mean_difference / standard_error\n",
    "\n",
    "# P-value\n",
    "p_value = norm.cdf(z_score)\n",
    "\n",
    "# Printing results\n",
    "print(\"Z-test statistic:\", z_score)\n",
    "print(\"P-value:\", p_value)\n",
    "\n",
    "# Interpretation\n",
    "alpha = 0.05\n",
    "if p_value < alpha:\n",
    "    print(\"The tutoring program has a statistically significant effect on students' exam scores.\")\n",
    "else:\n",
    "    print(\"There is not enough evidence to conclude that the tutoring program improves students' exam scores.\")\n"
   ]
  },
  {
   "cell_type": "markdown",
   "id": "536bcfa0-7a43-41fd-aca2-d670a7209f7c",
   "metadata": {},
   "source": [
    "This code calculates the z-test statistic and the corresponding p-value. If the p-value is less than the chosen significance level (commonly 0.05), it indicates that there is enough evidence to reject the null hypothesis, suggesting that the tutoring program has a significant effect on students' exam scores. Otherwise, we fail to reject the null hypothesis."
   ]
  },
  {
   "cell_type": "markdown",
   "id": "d1161269-0ec9-44cb-8eb2-4e9e254ef4eb",
   "metadata": {},
   "source": [
    "13. A pharmaceutical company wants to determine if a new drug is effective in reducing blood pressure. They\n",
    "conduct a study and record blood pressure measurements before and after administering the drug.\n",
    "Use the below code to generate samples of respective arrays of blood pressure:\n",
    "\n",
    "\n",
    "```python\n",
    "\n",
    "before_drug = np.array([145, 150, 140, 135, 155, 160, 152, 148, 130, 138])\n",
    "\n",
    "after_drug = np.array([130, 140, 132, 128, 145, 148, 138, 136, 125, 130])\n",
    "\n",
    "  ```\n",
    "\n",
    "\n",
    "Implement z-test to find if the drug really works or not"
   ]
  },
  {
   "cell_type": "markdown",
   "id": "f3dbfc01-6256-477c-a009-1f9ea2eebbe1",
   "metadata": {},
   "source": [
    "To determine if the new drug is effective in reducing blood pressure, we can use a paired-sample z-test. This test compares the mean difference in blood pressure before and after administering the drug to see if it's significantly different from zero. Here's how you can implement it using Python:"
   ]
  },
  {
   "cell_type": "code",
   "execution_count": 39,
   "id": "9cb21418-2574-469a-85e3-c1ae29c1b660",
   "metadata": {},
   "outputs": [
    {
     "name": "stdout",
     "output_type": "stream",
     "text": [
      "Z-test statistic: -10.049875621120888\n",
      "P-value: 4.599172203850193e-24\n",
      "The drug is statistically effective in reducing blood pressure.\n"
     ]
    }
   ],
   "source": [
    "import numpy as np\n",
    "from scipy.stats import norm\n",
    "\n",
    "# Data\n",
    "before_drug = np.array([145, 150, 140, 135, 155, 160, 152, 148, 130, 138])\n",
    "after_drug = np.array([130, 140, 132, 128, 145, 148, 138, 136, 125, 130])\n",
    "\n",
    "# Calculate the difference between after and before blood pressure measurements\n",
    "pressure_difference = after_drug - before_drug\n",
    "\n",
    "# Number of samples\n",
    "n = len(pressure_difference)\n",
    "\n",
    "# Mean and standard deviation of the difference\n",
    "mean_difference = np.mean(pressure_difference)\n",
    "std_dev_difference = np.std(pressure_difference, ddof=1)\n",
    "\n",
    "# Standard error\n",
    "standard_error = std_dev_difference / np.sqrt(n)\n",
    "\n",
    "# Null hypothesis: Mean difference is zero\n",
    "# Z-test statistic\n",
    "z_score = mean_difference / standard_error\n",
    "\n",
    "# P-value\n",
    "p_value = norm.cdf(z_score)\n",
    "\n",
    "# Printing results\n",
    "print(\"Z-test statistic:\", z_score)\n",
    "print(\"P-value:\", p_value)\n",
    "\n",
    "# Interpretation\n",
    "alpha = 0.05\n",
    "if p_value < alpha:\n",
    "    print(\"The drug is statistically effective in reducing blood pressure.\")\n",
    "else:\n",
    "    print(\"There is not enough evidence to conclude that the drug is effective in reducing blood pressure.\")\n"
   ]
  },
  {
   "cell_type": "markdown",
   "id": "f810db7c-bcd8-4f19-9de5-2ccd1fb81840",
   "metadata": {},
   "source": [
    "This code calculates the z-test statistic and the corresponding p-value. If the p-value is less than the chosen significance level (commonly 0.05), it indicates that there is enough evidence to reject the null hypothesis, suggesting that the drug is effective in reducing blood pressure. Otherwise, we fail to reject the null hypothesis."
   ]
  },
  {
   "cell_type": "markdown",
   "id": "8eb27521-458e-426e-bcca-9e81c774d701",
   "metadata": {},
   "source": [
    "14. A customer service department claims that their average response time is less than 5 minutes A sample\n",
    "of recent customer interactions was taken, and the response times were recorded.\n",
    "Implement the below code to generate the array of response time:\n",
    "\n",
    "```python\n",
    "\n",
    "response_times = np.array([4.3, 3.8, 5.1, 4.9, 4.7, 4.2, 5.2, 4.5, 4.6, 4.4])\n",
    "\n",
    "```\n",
    "\n",
    "Implement z-test to find the claims made by customer service department are true or false.\n"
   ]
  },
  {
   "cell_type": "markdown",
   "id": "1c6dc3d8-97b1-4b27-a4f4-d97b0cdb53d8",
   "metadata": {},
   "source": [
    "To determine if the customer service department's claim that their average response time is less than 5 minutes is true or false, we can perform a one-sample z-test. This test compares the sample mean response time to the hypothesized population mean (in this case, 5 minutes) to assess if there is enough evidence to reject the claim. Below is the implementation of the z-test using the provided data:"
   ]
  },
  {
   "cell_type": "code",
   "execution_count": 40,
   "id": "78d67383-0c94-4eec-9335-ca2aef8d6aa4",
   "metadata": {},
   "outputs": [
    {
     "name": "stdout",
     "output_type": "stream",
     "text": [
      "Z-score: -3.184457226042963\n",
      "P-value: 0.0007251287113068958\n",
      "There is enough evidence to reject the claim that the average response time is less than 5 minutes.\n"
     ]
    }
   ],
   "source": [
    "import numpy as np\n",
    "from scipy.stats import norm\n",
    "\n",
    "# Data\n",
    "response_times = np.array([4.3, 3.8, 5.1, 4.9, 4.7, 4.2, 5.2, 4.5, 4.6, 4.4])\n",
    "\n",
    "# Sample statistics\n",
    "sample_mean = np.mean(response_times)\n",
    "sample_std = np.std(response_times, ddof=1)  # ddof=1 for sample standard deviation\n",
    "n = len(response_times)\n",
    "\n",
    "# Population parameters\n",
    "population_mean = 5  # Claimed average response time\n",
    "\n",
    "# Calculate the standard error\n",
    "standard_error = sample_std / np.sqrt(n)\n",
    "\n",
    "# Calculate the z-score\n",
    "z_score = (sample_mean - population_mean) / standard_error\n",
    "\n",
    "# Calculate the p-value\n",
    "p_value = norm.cdf(z_score)\n",
    "\n",
    "# Print results\n",
    "print(\"Z-score:\", z_score)\n",
    "print(\"P-value:\", p_value)\n",
    "\n",
    "# Interpretation\n",
    "alpha = 0.05\n",
    "if p_value < alpha:\n",
    "    print(\"There is enough evidence to reject the claim that the average response time is less than 5 minutes.\")\n",
    "else:\n",
    "    print(\"There is not enough evidence to reject the claim that the average response time is less than 5 minutes.\")\n"
   ]
  },
  {
   "cell_type": "markdown",
   "id": "089dc3b1-4d21-4608-99c9-b4480f0dc16a",
   "metadata": {},
   "source": [
    "This code calculates the z-score and the corresponding p-value. If the p-value is less than the chosen significance level (usually 0.05), we reject the null hypothesis, suggesting that there is enough evidence to reject the claim that the average response time is less than 5 minutes. Otherwise, we fail to reject the null hypothesis."
   ]
  },
  {
   "cell_type": "markdown",
   "id": "5cc66eed-c2cf-42ad-b8a2-44a34c59b139",
   "metadata": {},
   "source": [
    "15. A company is testing two different website layouts to see which one leads to higher click-through rates\n",
    "Write a Python function to perform: an A/B test analysis, including calculating the t-statistic, degrees of\n",
    "freedom and p-value.\n",
    "\n",
    "Use the following data:\n",
    "\n",
    "```python\n",
    "\n",
    "layout_a_clicks = [28, 32, 33, 29, 31, 34, 30, 35, 36, 37]\n",
    "\n",
    "layout_b_clicks = [40, 41, 38, 42, 39, 44, 43, 41, 45, 47]\n"
   ]
  },
  {
   "cell_type": "markdown",
   "id": "d9f910a1-e8df-4bf2-9091-22893df6ce83",
   "metadata": {},
   "source": [
    "You can implement a Python function to perform an A/B test analysis using the provided data. This analysis typically involves calculating the t-statistic, degrees of freedom, and p-value. Below is a function that accomplishes this using the scipy.stats module:"
   ]
  },
  {
   "cell_type": "code",
   "execution_count": 41,
   "id": "c0a2a864-72ec-4239-9f8a-16dedc858b77",
   "metadata": {},
   "outputs": [
    {
     "name": "stdout",
     "output_type": "stream",
     "text": [
      "T-statistic: -7.298102156175071\n",
      "Degrees of freedom: 18\n",
      "P-value: 8.833437608301987e-07\n"
     ]
    }
   ],
   "source": [
    "import numpy as np\n",
    "from scipy.stats import ttest_ind\n",
    "\n",
    "def ab_test(layout_a_clicks, layout_b_clicks):\n",
    "    \"\"\"\n",
    "    Perform an A/B test analysis.\n",
    "\n",
    "    Parameters:\n",
    "    - layout_a_clicks (list): List of click-through rates for layout A.\n",
    "    - layout_b_clicks (list): List of click-through rates for layout B.\n",
    "\n",
    "    Returns:\n",
    "    - t_statistic (float): The calculated t-statistic.\n",
    "    - degrees_of_freedom (int): The degrees of freedom.\n",
    "    - p_value (float): The p-value.\n",
    "    \"\"\"\n",
    "    # Convert lists to numpy arrays\n",
    "    layout_a_clicks = np.array(layout_a_clicks)\n",
    "    layout_b_clicks = np.array(layout_b_clicks)\n",
    "\n",
    "    # Calculate means\n",
    "    mean_a = np.mean(layout_a_clicks)\n",
    "    mean_b = np.mean(layout_b_clicks)\n",
    "\n",
    "    # Perform independent two-sample t-test\n",
    "    t_statistic, p_value = ttest_ind(layout_a_clicks, layout_b_clicks)\n",
    "\n",
    "    # Degrees of freedom\n",
    "    n_a = len(layout_a_clicks)\n",
    "    n_b = len(layout_b_clicks)\n",
    "    degrees_of_freedom = n_a + n_b - 2\n",
    "\n",
    "    return t_statistic, degrees_of_freedom, p_value\n",
    "\n",
    "# Data\n",
    "layout_a_clicks = [28, 32, 33, 29, 31, 34, 30, 35, 36, 37]\n",
    "layout_b_clicks = [40, 41, 38, 42, 39, 44, 43, 41, 45, 47]\n",
    "\n",
    "# Perform A/B test analysis\n",
    "t_statistic, degrees_of_freedom, p_value = ab_test(layout_a_clicks, layout_b_clicks)\n",
    "\n",
    "# Print results\n",
    "print(\"T-statistic:\", t_statistic)\n",
    "print(\"Degrees of freedom:\", degrees_of_freedom)\n",
    "print(\"P-value:\", p_value)\n"
   ]
  },
  {
   "cell_type": "markdown",
   "id": "45cd3cc5-8b5d-4ebc-a34b-7a1a64771199",
   "metadata": {},
   "source": [
    "This function calculates the t-statistic, degrees of freedom, and p-value using the independent two-sample t-test implemented in scipy.stats.ttest_ind. It then returns these values for further analysis"
   ]
  },
  {
   "cell_type": "markdown",
   "id": "7cb31e3e-00b4-4b6c-b6b9-408801c5c83b",
   "metadata": {},
   "source": [
    "16. A pharmaceutical company wants to determine if a new drug is : more effective than an existing drug in\n",
    "reducing cholesterol levels Create a program: to analyze the clinical trial data and calculate the t-statistic and p-value for the treatment effect.\n",
    "\n",
    "\n",
    "Use the following data of cholestrol level:\n",
    "\n",
    "```python\n",
    "\n",
    "existing_drug_levels = [180, 182, 175, 185, 178, 176, 172, 184, 179, 183]\n",
    "\n",
    "new_drug_levels = [170, 172, 165, 168, 175, 173, 170, 178, 172, 176]"
   ]
  },
  {
   "cell_type": "markdown",
   "id": "4849c2ba-ddfb-49d1-8180-248d1a2f7e38",
   "metadata": {},
   "source": [
    "You can use a two-sample t-test to analyze the clinical trial data and determine if the new drug is more effective than the existing drug in reducing cholesterol levels. Below is a Python program that calculates the t-statistic and p-value for the treatment effect using the provided data:"
   ]
  },
  {
   "cell_type": "code",
   "execution_count": 42,
   "id": "54a0ccf1-f45c-43ed-a523-699c966a2c8e",
   "metadata": {},
   "outputs": [
    {
     "name": "stdout",
     "output_type": "stream",
     "text": [
      "T-statistic: 4.14048098620866\n",
      "P-value: 0.0006143398442372505\n"
     ]
    }
   ],
   "source": [
    "import numpy as np\n",
    "from scipy.stats import ttest_ind\n",
    "\n",
    "def t_test_for_treatment_effect(existing_drug_levels, new_drug_levels):\n",
    "    \"\"\"\n",
    "    Perform a two-sample t-test to analyze the treatment effect of a new drug compared to an existing drug.\n",
    "\n",
    "    Parameters:\n",
    "    - existing_drug_levels (list): List of cholesterol levels for the existing drug.\n",
    "    - new_drug_levels (list): List of cholesterol levels for the new drug.\n",
    "\n",
    "    Returns:\n",
    "    - t_statistic (float): The calculated t-statistic.\n",
    "    - p_value (float): The p-value.\n",
    "    \"\"\"\n",
    "    # Convert lists to numpy arrays\n",
    "    existing_drug_levels = np.array(existing_drug_levels)\n",
    "    new_drug_levels = np.array(new_drug_levels)\n",
    "\n",
    "    # Perform independent two-sample t-test\n",
    "    t_statistic, p_value = ttest_ind(existing_drug_levels, new_drug_levels)\n",
    "\n",
    "    return t_statistic, p_value\n",
    "\n",
    "# Data\n",
    "existing_drug_levels = [180, 182, 175, 185, 178, 176, 172, 184, 179, 183]\n",
    "new_drug_levels = [170, 172, 165, 168, 175, 173, 170, 178, 172, 176]\n",
    "\n",
    "# Perform t-test for treatment effect\n",
    "t_statistic, p_value = t_test_for_treatment_effect(existing_drug_levels, new_drug_levels)\n",
    "\n",
    "# Print results\n",
    "print(\"T-statistic:\", t_statistic)\n",
    "print(\"P-value:\", p_value)\n"
   ]
  },
  {
   "cell_type": "markdown",
   "id": "381518c9-46eb-4580-89b8-c0298ccaa81d",
   "metadata": {},
   "source": [
    "This program defines a function t_test_for_treatment_effect that performs a two-sample t-test using scipy.stats.ttest_ind and returns the calculated t-statistic and p-value. The provided data for cholesterol levels of the existing drug and the new drug are then used to perform the analysis. Finally, the results are printed out."
   ]
  },
  {
   "cell_type": "markdown",
   "id": "e4433c28-da44-4278-be19-cf60f05233d2",
   "metadata": {},
   "source": [
    "17. A school district introduces an educational intervention program: to improve math scores Write a Python\n",
    "function to analyze pre- and post-intervention test scores, calculating the t-statistic and p-value to\n",
    "determine if the intervention had a significant impact.\n",
    "\n",
    "\n",
    "Use the following data of test scores:\n",
    "\n",
    "\n",
    "  ```python\n",
    "\n",
    "  pre_intervention_scores = [80, 85, 90, 75, 88, 82, 92, 78, 85, 87]\n",
    "\n",
    "  post_intervention_scores = [90, 92, 88, 92, 95, 91, 96, 93, 89, 93]"
   ]
  },
  {
   "cell_type": "markdown",
   "id": "75c2717f-3563-4df7-8f8c-f04ee2b9b741",
   "metadata": {},
   "source": [
    "You can use a paired-sample t-test to analyze the pre- and post-intervention test scores and determine if the intervention had a significant impact on math scores. Below is a Python function that calculates the t-statistic and p-value for this analysis using the provided data:"
   ]
  },
  {
   "cell_type": "code",
   "execution_count": 43,
   "id": "8a587c69-b70f-4d90-8bfb-066d366600bd",
   "metadata": {},
   "outputs": [
    {
     "name": "stdout",
     "output_type": "stream",
     "text": [
      "T-statistic: -4.42840883965761\n",
      "P-value: 0.0016509548165795493\n"
     ]
    }
   ],
   "source": [
    "import numpy as np\n",
    "from scipy.stats import ttest_rel\n",
    "\n",
    "def t_test_for_intervention_effect(pre_intervention_scores, post_intervention_scores):\n",
    "    \"\"\"\n",
    "    Perform a paired-sample t-test to analyze the intervention effect on test scores.\n",
    "\n",
    "    Parameters:\n",
    "    - pre_intervention_scores (list): List of pre-intervention test scores.\n",
    "    - post_intervention_scores (list): List of post-intervention test scores.\n",
    "\n",
    "    Returns:\n",
    "    - t_statistic (float): The calculated t-statistic.\n",
    "    - p_value (float): The p-value.\n",
    "    \"\"\"\n",
    "    # Convert lists to numpy arrays\n",
    "    pre_intervention_scores = np.array(pre_intervention_scores)\n",
    "    post_intervention_scores = np.array(post_intervention_scores)\n",
    "\n",
    "    # Perform paired-sample t-test\n",
    "    t_statistic, p_value = ttest_rel(pre_intervention_scores, post_intervention_scores)\n",
    "\n",
    "    return t_statistic, p_value\n",
    "\n",
    "# Data\n",
    "pre_intervention_scores = [80, 85, 90, 75, 88, 82, 92, 78, 85, 87]\n",
    "post_intervention_scores = [90, 92, 88, 92, 95, 91, 96, 93, 89, 93]\n",
    "\n",
    "# Perform t-test for intervention effect\n",
    "t_statistic, p_value = t_test_for_intervention_effect(pre_intervention_scores, post_intervention_scores)\n",
    "\n",
    "# Print results\n",
    "print(\"T-statistic:\", t_statistic)\n",
    "print(\"P-value:\", p_value)\n"
   ]
  },
  {
   "cell_type": "markdown",
   "id": "6c73ab46-a5bf-496d-a85f-7c3e23faccee",
   "metadata": {},
   "source": [
    "This function defines t_test_for_intervention_effect, which performs a paired-sample t-test using scipy.stats.ttest_rel and returns the calculated t-statistic and p-value. The provided data for pre-intervention and post-intervention test scores are then used to perform the analysis. Finally, the results are printed out."
   ]
  },
  {
   "cell_type": "markdown",
   "id": "7741253b-3666-4cd7-a165-cc807c978686",
   "metadata": {},
   "source": [
    "18. An HR department wants to investigate if there's a gender-based salary gap within the company. Develop\n",
    "a program to analyze salary data, calculate the t-statistic, and determine if there's a statistically\n",
    "significant difference between the average salaries of male and female employees.\n",
    "\n",
    "\n",
    "Use the below code to generate synthetic data\n",
    "```python\n",
    "\n",
    "# Generate synthetic salary data for male and female employees\n",
    "\n",
    "np.random.seed(0)  # For reproducibility\n",
    "\n",
    "male_salaries = np.random.normal(loc=50000, scale=10000, size=20)\n",
    "\n",
    "female_salaries = np.random.normal(loc=55000, scale=9000, size=20)"
   ]
  },
  {
   "cell_type": "markdown",
   "id": "b7f3d2fe-9c99-4fb4-83bd-e2094f6d6fd9",
   "metadata": {},
   "source": [
    "You can use a two-sample t-test to analyze the salary data and determine if there's a statistically significant difference between the average salaries of male and female employees. Below is a Python program that calculates the t-statistic and p-value for this analysis using the provided synthetic data:"
   ]
  },
  {
   "cell_type": "code",
   "execution_count": 44,
   "id": "7a703c1e-83d3-47ca-98fb-e4ee2ae6c318",
   "metadata": {},
   "outputs": [
    {
     "name": "stdout",
     "output_type": "stream",
     "text": [
      "T-statistic: 0.06114208969631383\n",
      "P-value: 0.9515665020676465\n"
     ]
    }
   ],
   "source": [
    "import numpy as np\n",
    "from scipy.stats import ttest_ind\n",
    "\n",
    "def t_test_for_salary_gap(male_salaries, female_salaries):\n",
    "    \"\"\"\n",
    "    Perform a two-sample t-test to analyze the salary gap between male and female employees.\n",
    "\n",
    "    Parameters:\n",
    "    - male_salaries (array-like): Array of male employees' salaries.\n",
    "    - female_salaries (array-like): Array of female employees' salaries.\n",
    "\n",
    "    Returns:\n",
    "    - t_statistic (float): The calculated t-statistic.\n",
    "    - p_value (float): The p-value.\n",
    "    \"\"\"\n",
    "    # Perform two-sample t-test\n",
    "    t_statistic, p_value = ttest_ind(male_salaries, female_salaries)\n",
    "\n",
    "    return t_statistic, p_value\n",
    "\n",
    "# Generate synthetic salary data for male and female employees\n",
    "np.random.seed(0)  # For reproducibility\n",
    "male_salaries = np.random.normal(loc=50000, scale=10000, size=20)\n",
    "female_salaries = np.random.normal(loc=55000, scale=9000, size=20)\n",
    "\n",
    "# Perform t-test for salary gap\n",
    "t_statistic, p_value = t_test_for_salary_gap(male_salaries, female_salaries)\n",
    "\n",
    "# Print results\n",
    "print(\"T-statistic:\", t_statistic)\n",
    "print(\"P-value:\", p_value)\n"
   ]
  },
  {
   "cell_type": "markdown",
   "id": "2293856e-8be4-45b7-963a-72ac12505a75",
   "metadata": {},
   "source": [
    "This program defines a function t_test_for_salary_gap that performs a two-sample t-test using scipy.stats.ttest_ind and returns the calculated t-statistic and p-value. Synthetic salary data for male and female employees are then generated using numpy's random.normal function. Finally, the results are printed out."
   ]
  },
  {
   "cell_type": "markdown",
   "id": "8f4e8033-f82e-4b72-86f8-ea140496c000",
   "metadata": {},
   "source": [
    "19. A manufacturer produces two different versions of a product and wants to compare their quality scores.\n",
    "Create a Python function to analyze quality assessment data, calculate the t-statistic, and decide\n",
    "whether there's a significant difference in quality between the two versions.\n",
    "\n",
    "\n",
    "Use the following data\n",
    "```python\n",
    "\n",
    "version1_scores = [85, 88, 82, 89, 87, 84, 90, 88, 85, 86, 91, 83, 87, 84, 89, 86, 84, 88, 85, 86, 89, 90, 87, 88, 85]\n",
    "\n",
    "version2_scores = [80, 78, 83, 81, 79, 82, 76, 80, 78, 81, 77, 82, 80, 79, 82, 79, 80, 81, 79, 82, 79, 78, 80, 81, 82]"
   ]
  },
  {
   "cell_type": "markdown",
   "id": "92ceac00-39af-4a84-9299-4e257c95660c",
   "metadata": {},
   "source": [
    "You can use a two-sample t-test to compare the quality scores of the two product versions and determine if there's a significant difference in quality between them. Below is a Python function that calculates the t-statistic and p-value for this analysis using the provided data:"
   ]
  },
  {
   "cell_type": "code",
   "execution_count": 45,
   "id": "f5a4c64d-9a3e-4bfb-8015-7c139d377fea",
   "metadata": {},
   "outputs": [
    {
     "name": "stdout",
     "output_type": "stream",
     "text": [
      "T-statistic: 11.325830417646698\n",
      "P-value: 3.6824250702873965e-15\n"
     ]
    }
   ],
   "source": [
    "import numpy as np\n",
    "from scipy.stats import ttest_ind\n",
    "\n",
    "def t_test_for_quality_comparison(version1_scores, version2_scores):\n",
    "    \"\"\"\n",
    "    Perform a two-sample t-test to compare the quality scores of two product versions.\n",
    "\n",
    "    Parameters:\n",
    "    - version1_scores (array-like): Array of quality scores for version 1.\n",
    "    - version2_scores (array-like): Array of quality scores for version 2.\n",
    "\n",
    "    Returns:\n",
    "    - t_statistic (float): The calculated t-statistic.\n",
    "    - p_value (float): The p-value.\n",
    "    \"\"\"\n",
    "    # Perform two-sample t-test\n",
    "    t_statistic, p_value = ttest_ind(version1_scores, version2_scores)\n",
    "\n",
    "    return t_statistic, p_value\n",
    "\n",
    "# Data\n",
    "version1_scores = [85, 88, 82, 89, 87, 84, 90, 88, 85, 86, 91, 83, 87, 84, 89, 86, 84, 88, 85, 86, 89, 90, 87, 88, 85]\n",
    "version2_scores = [80, 78, 83, 81, 79, 82, 76, 80, 78, 81, 77, 82, 80, 79, 82, 79, 80, 81, 79, 82, 79, 78, 80, 81, 82]\n",
    "\n",
    "# Perform t-test for quality comparison\n",
    "t_statistic, p_value = t_test_for_quality_comparison(version1_scores, version2_scores)\n",
    "\n",
    "# Print results\n",
    "print(\"T-statistic:\", t_statistic)\n",
    "print(\"P-value:\", p_value)\n"
   ]
  },
  {
   "cell_type": "markdown",
   "id": "a08e3389-66e5-4744-a6a0-c907536b87ab",
   "metadata": {},
   "source": [
    "This program defines a function t_test_for_quality_comparison that performs a two-sample t-test using scipy.stats.ttest_ind and returns the calculated t-statistic and p-value. Quality assessment data for two product versions are then provided as input to the function. Finally, the results are printed out."
   ]
  },
  {
   "cell_type": "markdown",
   "id": "c5aaf20f-8980-4bbb-9779-0733ec9a8849",
   "metadata": {},
   "source": [
    " 20. A restaurant chain collects customer satisfaction scores for two different branches. Write a program to\n",
    "analyze the scores, calculate the t-statistic, and determine if there's a statistically significant difference in\n",
    "customer satisfaction between the branches.\n",
    "\n",
    "\n",
    "Use the below data of scores:\n",
    "\n",
    "  ```python\n",
    "\n",
    "branch_a_scores = [4, 5, 3, 4, 5, 4, 5, 3, 4, 4, 5, 4, 4, 3, 4, 5, 5, 4, 3, 4, 5, 4, 3, 5, 4, 4, 5, 3, 4, 5, 4]\n",
    "\n",
    "branch_b_scores = [3, 4, 2, 3, 4, 3, 4, 2, 3, 3, 4, 3, 3, 2, 3, 4, 4, 3, 2, 3, 4, 3, 2, 4, 3, 3, 4, 2, 3, 4, 3]"
   ]
  },
  {
   "cell_type": "markdown",
   "id": "9b8a408b-e827-49f2-b20d-6f0a2b79e028",
   "metadata": {},
   "source": [
    "You can use a two-sample t-test to compare the customer satisfaction scores of the two branches and determine if there's a statistically significant difference between them. Below is a Python program that calculates the t-statistic and p-value for this analysis using the provided data:"
   ]
  },
  {
   "cell_type": "code",
   "execution_count": 46,
   "id": "ce020351-e77a-40c9-8a9c-9f56738d695d",
   "metadata": {},
   "outputs": [
    {
     "name": "stdout",
     "output_type": "stream",
     "text": [
      "T-statistic: 5.480077554195743\n",
      "P-value: 8.895290509945657e-07\n"
     ]
    }
   ],
   "source": [
    "import numpy as np\n",
    "from scipy.stats import ttest_ind\n",
    "\n",
    "def t_test_for_customer_satisfaction(branch_a_scores, branch_b_scores):\n",
    "    \"\"\"\n",
    "    Perform a two-sample t-test to compare customer satisfaction scores between two branches.\n",
    "\n",
    "    Parameters:\n",
    "    - branch_a_scores (array-like): Array of customer satisfaction scores for branch A.\n",
    "    - branch_b_scores (array-like): Array of customer satisfaction scores for branch B.\n",
    "\n",
    "    Returns:\n",
    "    - t_statistic (float): The calculated t-statistic.\n",
    "    - p_value (float): The p-value.\n",
    "    \"\"\"\n",
    "    # Perform two-sample t-test\n",
    "    t_statistic, p_value = ttest_ind(branch_a_scores, branch_b_scores)\n",
    "\n",
    "    return t_statistic, p_value\n",
    "\n",
    "# Data\n",
    "branch_a_scores = [4, 5, 3, 4, 5, 4, 5, 3, 4, 4, 5, 4, 4, 3, 4, 5, 5, 4, 3, 4, 5, 4, 3, 5, 4, 4, 5, 3, 4, 5, 4]\n",
    "branch_b_scores = [3, 4, 2, 3, 4, 3, 4, 2, 3, 3, 4, 3, 3, 2, 3, 4, 4, 3, 2, 3, 4, 3, 2, 4, 3, 3, 4, 2, 3, 4, 3]\n",
    "\n",
    "# Perform t-test for customer satisfaction comparison\n",
    "t_statistic, p_value = t_test_for_customer_satisfaction(branch_a_scores, branch_b_scores)\n",
    "\n",
    "# Print results\n",
    "print(\"T-statistic:\", t_statistic)\n",
    "print(\"P-value:\", p_value)\n"
   ]
  },
  {
   "cell_type": "markdown",
   "id": "4248a80e-594f-4c17-b40b-8e02baef3728",
   "metadata": {},
   "source": [
    "This program defines a function t_test_for_customer_satisfaction that performs a two-sample t-test using scipy.stats.ttest_ind and returns the calculated t-statistic and p-value. Customer satisfaction scores for two branches are then provided as input to the function. Finally, the results are printed out."
   ]
  },
  {
   "cell_type": "markdown",
   "id": "6cbb28a5-d3fd-4f30-be86-f41ecc4a1868",
   "metadata": {},
   "source": [
    "21. A political analyst wants to determine if there is a significant association between age groups and voter\n",
    "preferences Candidate A or Candidate B). They collect data from a sample of 500 voters and classify\n",
    "them into different age groups and candidate preferences. Perform a Chi-Square test to determine if\n",
    "there is a significant association between age groups and voter preferences.\n",
    "\n",
    "\n",
    "Use the below code to generate data:\n",
    "\n",
    "```python\n",
    "\n",
    "np.random.seed(0)\n",
    "\n",
    "age_groups = np.random.choice([ 18 30 , 31 50 , 51+', 51+'], size=30)\n",
    "\n",
    "voter_preferences = np.random.choice(['Candidate A', 'Candidate B'], size=30)"
   ]
  },
  {
   "cell_type": "markdown",
   "id": "67f32d24-9abc-4213-ab4b-0b611623d449",
   "metadata": {},
   "source": [
    "To perform a Chi-Square test to determine if there is a significant association between age groups and voter preferences, we need to count the frequencies of each combination of age group and voter preference and then conduct the test. Below is a Python program that does this using the provided data:"
   ]
  },
  {
   "cell_type": "code",
   "execution_count": 47,
   "id": "5f92bf1b-5993-462f-8d4f-a81c95f7219d",
   "metadata": {},
   "outputs": [
    {
     "name": "stdout",
     "output_type": "stream",
     "text": [
      "Chi-square statistic: 0.8779923945254768\n",
      "P-value: 0.6446832311860852\n",
      "Degrees of freedom: 2\n",
      "Expected frequencies:\n",
      "[[96.824 85.176]\n",
      " [89.908 79.092]\n",
      " [79.268 69.732]]\n"
     ]
    }
   ],
   "source": [
    "import numpy as np\n",
    "from scipy.stats import chi2_contingency\n",
    "\n",
    "def chi_square_test_for_voter_preferences(age_groups, voter_preferences):\n",
    "    \"\"\"\n",
    "    Perform a Chi-Square test to determine the association between age groups and voter preferences.\n",
    "\n",
    "    Parameters:\n",
    "    - age_groups (array-like): Array of age groups.\n",
    "    - voter_preferences (array-like): Array of voter preferences.\n",
    "\n",
    "    Returns:\n",
    "    - chi2_statistic (float): The calculated chi-square statistic.\n",
    "    - p_value (float): The p-value.\n",
    "    - dof (int): The degrees of freedom.\n",
    "    - expected (ndarray): The expected frequencies under the null hypothesis.\n",
    "    \"\"\"\n",
    "    # Create a contingency table\n",
    "    contingency_table = np.zeros((3, 2), dtype=int)\n",
    "    for age, preference in zip(age_groups, voter_preferences):\n",
    "        if age == '18-30':\n",
    "            row_index = 0\n",
    "        elif age == '31-50':\n",
    "            row_index = 1\n",
    "        else:\n",
    "            row_index = 2\n",
    "        if preference == 'Candidate A':\n",
    "            column_index = 0\n",
    "        else:\n",
    "            column_index = 1\n",
    "        contingency_table[row_index, column_index] += 1\n",
    "\n",
    "    # Perform Chi-Square test\n",
    "    chi2_statistic, p_value, dof, expected = chi2_contingency(contingency_table)\n",
    "\n",
    "    return chi2_statistic, p_value, dof, expected\n",
    "\n",
    "# Data\n",
    "np.random.seed(0)\n",
    "age_groups = np.random.choice(['18-30', '31-50', '51+'], size=500)\n",
    "voter_preferences = np.random.choice(['Candidate A', 'Candidate B'], size=500)\n",
    "\n",
    "# Perform Chi-Square test for voter preferences\n",
    "chi2_statistic, p_value, dof, expected = chi_square_test_for_voter_preferences(age_groups, voter_preferences)\n",
    "\n",
    "# Print results\n",
    "print(\"Chi-square statistic:\", chi2_statistic)\n",
    "print(\"P-value:\", p_value)\n",
    "print(\"Degrees of freedom:\", dof)\n",
    "print(\"Expected frequencies:\")\n",
    "print(expected)\n"
   ]
  },
  {
   "cell_type": "markdown",
   "id": "9fa29ff7-cbb8-4e68-aaeb-ec93122e094a",
   "metadata": {},
   "source": [
    "This program defines a function chi_square_test_for_voter_preferences that creates a contingency table for the observed frequencies of age groups and voter preferences and then performs a Chi-Square test using scipy.stats.chi2_contingency. Voter preference data for two candidates and age group data are generated randomly. Finally, the results are printed out."
   ]
  },
  {
   "cell_type": "markdown",
   "id": "e05d9292-d6e1-4848-a2a4-66eb20c0358d",
   "metadata": {},
   "source": [
    " 22. A company conducted a customer satisfaction survey to determine if there is a significant relationship\n",
    "between product satisfaction levels (Satisfied, Neutral, Dissatisfied) and the region where customers are\n",
    "located (East, West, North, South). The survey data is summarized in a contingency table. Conduct a ChiSquare test to determine if there is a significant relationship between product satisfaction levels and\n",
    "customer regions.\n",
    "\n",
    "\n",
    "Sample data:\n",
    "\n",
    "```python\n",
    "\n",
    "#Sample data: Product satisfaction levels (rows) vs. Customer regions (columns)\n",
    "\n",
    "data = np.array([[50, 30, 40, 20], [30, 40, 30, 50], [20, 30, 40, 30]])"
   ]
  },
  {
   "cell_type": "markdown",
   "id": "88010eaa-2cc7-47e2-89d4-477e8049b7a3",
   "metadata": {},
   "source": [
    "To conduct a Chi-Square test to determine if there is a significant relationship between product satisfaction levels and customer regions, we can use the provided contingency table. Below is a Python program that performs this analysis:"
   ]
  },
  {
   "cell_type": "code",
   "execution_count": 48,
   "id": "c6c3befd-9978-4792-9b79-c458fd6740f6",
   "metadata": {},
   "outputs": [
    {
     "name": "stdout",
     "output_type": "stream",
     "text": [
      "Chi-square statistic: 27.777056277056275\n",
      "P-value: 0.00010349448486004387\n",
      "Degrees of freedom: 6\n",
      "Expected frequencies:\n",
      "[[34.14634146 34.14634146 37.56097561 34.14634146]\n",
      " [36.58536585 36.58536585 40.24390244 36.58536585]\n",
      " [29.26829268 29.26829268 32.19512195 29.26829268]]\n"
     ]
    }
   ],
   "source": [
    "import numpy as np\n",
    "from scipy.stats import chi2_contingency\n",
    "\n",
    "def chi_square_test_for_customer_satisfaction(data):\n",
    "    \"\"\"\n",
    "    Perform a Chi-Square test to determine the relationship between product satisfaction levels and customer regions.\n",
    "\n",
    "    Parameters:\n",
    "    - data (ndarray): Contingency table of product satisfaction levels (rows) vs. customer regions (columns).\n",
    "\n",
    "    Returns:\n",
    "    - chi2_statistic (float): The calculated chi-square statistic.\n",
    "    - p_value (float): The p-value.\n",
    "    - dof (int): The degrees of freedom.\n",
    "    - expected (ndarray): The expected frequencies under the null hypothesis.\n",
    "    \"\"\"\n",
    "    # Perform Chi-Square test\n",
    "    chi2_statistic, p_value, dof, expected = chi2_contingency(data)\n",
    "\n",
    "    return chi2_statistic, p_value, dof, expected\n",
    "\n",
    "# Sample data: Product satisfaction levels (rows) vs. Customer regions (columns)\n",
    "data = np.array([[50, 30, 40, 20], [30, 40, 30, 50], [20, 30, 40, 30]])\n",
    "\n",
    "# Perform Chi-Square test for customer satisfaction\n",
    "chi2_statistic, p_value, dof, expected = chi_square_test_for_customer_satisfaction(data)\n",
    "\n",
    "# Print results\n",
    "print(\"Chi-square statistic:\", chi2_statistic)\n",
    "print(\"P-value:\", p_value)\n",
    "print(\"Degrees of freedom:\", dof)\n",
    "print(\"Expected frequencies:\")\n",
    "print(expected)\n"
   ]
  },
  {
   "cell_type": "markdown",
   "id": "5be60f96-9e80-4330-aa8b-fb308600d21e",
   "metadata": {},
   "source": [
    "This program defines a function chi_square_test_for_customer_satisfaction that performs a Chi-Square test using scipy.stats.chi2_contingency. The contingency table of product satisfaction levels (rows) vs. customer regions (columns) is provided as input to the function. Finally, the results are printed out."
   ]
  },
  {
   "cell_type": "markdown",
   "id": "bfd4a688-4427-45f8-9279-3480a189cd9b",
   "metadata": {},
   "source": [
    " 23. A company implemented an employee training program to improve job performance (Effective, Neutral,\n",
    "Ineffective). After the training, they collected data from a sample of employees and classified them based\n",
    "on their job performance before and after the training. Perform a Chi-Square test to determine if there is a\n",
    "significant difference between job performance levels before and after the training.\n",
    "\n",
    "\n",
    "Sample data:\n",
    "\n",
    "```python\n",
    "\n",
    "# Sample data: Job performance levels before (rows) and after (columns) training\n",
    "\n",
    "data = np.array([[50, 30, 20], [30, 40, 30], [20, 30, 40]])\n",
    "\n"
   ]
  },
  {
   "cell_type": "markdown",
   "id": "f53be5b8-4f50-4943-a4fe-3210d1ccf9b0",
   "metadata": {},
   "source": [
    "To perform a Chi-Square test to determine if there is a significant difference between job performance levels before and after the training, we can use the provided contingency table. Below is a Python program that conducts this analysis:"
   ]
  },
  {
   "cell_type": "code",
   "execution_count": 49,
   "id": "5ce0bf5b-55fe-49b2-96e3-e4e105401c4a",
   "metadata": {},
   "outputs": [
    {
     "name": "stdout",
     "output_type": "stream",
     "text": [
      "Chi-square statistic: 22.161728395061726\n",
      "P-value: 0.00018609719479882554\n",
      "Degrees of freedom: 4\n",
      "Expected frequencies:\n",
      "[[34.48275862 34.48275862 31.03448276]\n",
      " [34.48275862 34.48275862 31.03448276]\n",
      " [31.03448276 31.03448276 27.93103448]]\n"
     ]
    }
   ],
   "source": [
    "import numpy as np\n",
    "from scipy.stats import chi2_contingency\n",
    "\n",
    "def chi_square_test_for_job_performance(data):\n",
    "    \"\"\"\n",
    "    Perform a Chi-Square test to determine the difference between job performance levels before and after training.\n",
    "\n",
    "    Parameters:\n",
    "    - data (ndarray): Contingency table of job performance levels before (rows) and after (columns) training.\n",
    "\n",
    "    Returns:\n",
    "    - chi2_statistic (float): The calculated chi-square statistic.\n",
    "    - p_value (float): The p-value.\n",
    "    - dof (int): The degrees of freedom.\n",
    "    - expected (ndarray): The expected frequencies under the null hypothesis.\n",
    "    \"\"\"\n",
    "    # Perform Chi-Square test\n",
    "    chi2_statistic, p_value, dof, expected = chi2_contingency(data)\n",
    "\n",
    "    return chi2_statistic, p_value, dof, expected\n",
    "\n",
    "# Sample data: Job performance levels before (rows) and after (columns) training\n",
    "data = np.array([[50, 30, 20], [30, 40, 30], [20, 30, 40]])\n",
    "\n",
    "# Perform Chi-Square test for job performance\n",
    "chi2_statistic, p_value, dof, expected = chi_square_test_for_job_performance(data)\n",
    "\n",
    "# Print results\n",
    "print(\"Chi-square statistic:\", chi2_statistic)\n",
    "print(\"P-value:\", p_value)\n",
    "print(\"Degrees of freedom:\", dof)\n",
    "print(\"Expected frequencies:\")\n",
    "print(expected)\n"
   ]
  },
  {
   "cell_type": "markdown",
   "id": "9f945826-d0d0-4857-8a27-7014184acf08",
   "metadata": {},
   "source": [
    "This program defines a function chi_square_test_for_job_performance that performs a Chi-Square test using scipy.stats.chi2_contingency. The contingency table of job performance levels before (rows) and after (columns) training is provided as input to the function. Finally, the results are printed out."
   ]
  },
  {
   "cell_type": "markdown",
   "id": "df2018fe-0615-4e6a-b2b9-7cf0b0cbda5b",
   "metadata": {},
   "source": [
    " 24. A company produces three different versions of a product: Standard, Premium, and Deluxe. The\n",
    "company wants to determine if there is a significant difference in customer satisfaction scores among the\n",
    "three product versions. They conducted a survey and collected customer satisfaction scores for each\n",
    "version from a random sample of customers. Perform an ANOVA test to determine if there is a significant\n",
    "difference in customer satisfaction scores.\n",
    "\n",
    "\n",
    "  Use the following data:\n",
    "\n",
    "  ```python\n",
    "\n",
    "  # Sample data: Customer satisfaction scores for each product version\n",
    "\n",
    "  standard_scores = [80, 85, 90, 78, 88, 82, 92, 78, 85, 87]\n",
    "\n",
    "  premium_scores = [90, 92, 88, 92, 95, 91, 96, 93, 89, 93]\n",
    "\n",
    "  deluxe_scores = [95, 98, 92, 97, 96, 94, 98, 97, 92, 99]"
   ]
  },
  {
   "cell_type": "markdown",
   "id": "b7f5fb19-da57-4108-9634-3bff09a960aa",
   "metadata": {},
   "source": [
    "To determine if there is a significant difference in customer satisfaction scores among the three product versions, we can use an analysis of variance (ANOVA) test. Below is a Python program that conducts this analysis using the provided data:"
   ]
  },
  {
   "cell_type": "code",
   "execution_count": 50,
   "id": "96a3bce5-7f62-4f87-a681-f971882fb77d",
   "metadata": {},
   "outputs": [
    {
     "name": "stdout",
     "output_type": "stream",
     "text": [
      "F-statistic: 27.03556231003039\n",
      "P-value: 3.578632885734896e-07\n"
     ]
    }
   ],
   "source": [
    "import numpy as np\n",
    "from scipy.stats import f_oneway\n",
    "\n",
    "def anova_test_for_customer_satisfaction(standard_scores, premium_scores, deluxe_scores):\n",
    "    \"\"\"\n",
    "    Perform an ANOVA test to determine if there is a significant difference in customer satisfaction scores.\n",
    "\n",
    "    Parameters:\n",
    "    - standard_scores (array-like): Array of customer satisfaction scores for the Standard version.\n",
    "    - premium_scores (array-like): Array of customer satisfaction scores for the Premium version.\n",
    "    - deluxe_scores (array-like): Array of customer satisfaction scores for the Deluxe version.\n",
    "\n",
    "    Returns:\n",
    "    - f_statistic (float): The calculated F-statistic.\n",
    "    - p_value (float): The p-value.\n",
    "    \"\"\"\n",
    "    # Perform ANOVA test\n",
    "    f_statistic, p_value = f_oneway(standard_scores, premium_scores, deluxe_scores)\n",
    "\n",
    "    return f_statistic, p_value\n",
    "\n",
    "# Sample data: Customer satisfaction scores for each product version\n",
    "standard_scores = [80, 85, 90, 78, 88, 82, 92, 78, 85, 87]\n",
    "premium_scores = [90, 92, 88, 92, 95, 91, 96, 93, 89, 93]\n",
    "deluxe_scores = [95, 98, 92, 97, 96, 94, 98, 97, 92, 99]\n",
    "\n",
    "# Perform ANOVA test for customer satisfaction\n",
    "f_statistic, p_value = anova_test_for_customer_satisfaction(standard_scores, premium_scores, deluxe_scores)\n",
    "\n",
    "# Print results\n",
    "print(\"F-statistic:\", f_statistic)\n",
    "print(\"P-value:\", p_value)\n"
   ]
  },
  {
   "cell_type": "markdown",
   "id": "a3cab783-8023-4250-b857-8c03f380798d",
   "metadata": {},
   "source": [
    "This program defines a function anova_test_for_customer_satisfaction that performs an ANOVA test using scipy.stats.f_oneway. Customer satisfaction scores for the Standard, Premium, and Deluxe versions are provided as input to the function. Finally, the results are printed out."
   ]
  },
  {
   "cell_type": "code",
   "execution_count": 51,
   "id": "fd54942b-9241-421f-9aa3-1f1520d0b061",
   "metadata": {},
   "outputs": [],
   "source": [
    "#complete assignments "
   ]
  },
  {
   "cell_type": "code",
   "execution_count": null,
   "id": "5d653a08-38fe-4823-84e8-4b1c3cb09b69",
   "metadata": {},
   "outputs": [],
   "source": []
  }
 ],
 "metadata": {
  "kernelspec": {
   "display_name": "Python 3 (ipykernel)",
   "language": "python",
   "name": "python3"
  },
  "language_info": {
   "codemirror_mode": {
    "name": "ipython",
    "version": 3
   },
   "file_extension": ".py",
   "mimetype": "text/x-python",
   "name": "python",
   "nbconvert_exporter": "python",
   "pygments_lexer": "ipython3",
   "version": "3.11.5"
  },
  "widgets": {
   "application/vnd.jupyter.widget-state+json": {
    "state": {},
    "version_major": 2,
    "version_minor": 0
   }
  }
 },
 "nbformat": 4,
 "nbformat_minor": 5
}
